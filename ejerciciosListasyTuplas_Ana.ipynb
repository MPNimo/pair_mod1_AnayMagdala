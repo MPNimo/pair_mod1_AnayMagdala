{
 "cells": [
  {
   "cell_type": "markdown",
   "id": "1c9bdb8d",
   "metadata": {},
   "source": [
    "### LISTAS\n",
    "1. Haz una lista llamada `colores` donde almacenemos los primeros 6 colores que te vengan a la mente."
   ]
  },
  {
   "cell_type": "code",
   "execution_count": 144,
   "id": "135a37df",
   "metadata": {},
   "outputs": [],
   "source": [
    "colores = ['azul', 'amarillo', 'verde', 'morado', 'rojo', 'negro']"
   ]
  },
  {
   "cell_type": "code",
   "execution_count": 145,
   "id": "ce49f97d",
   "metadata": {},
   "outputs": [
    {
     "data": {
      "text/plain": [
       "list"
      ]
     },
     "execution_count": 145,
     "metadata": {},
     "output_type": "execute_result"
    }
   ],
   "source": [
    "type(colores)"
   ]
  },
  {
   "cell_type": "markdown",
   "id": "234f3e9b",
   "metadata": {},
   "source": [
    "2. Haz una lista llamada `buses` de las líneas de autobuses que pasan por tu casa."
   ]
  },
  {
   "cell_type": "code",
   "execution_count": 146,
   "id": "022c2aff",
   "metadata": {},
   "outputs": [],
   "source": [
    "buses = [37, 6, 1]"
   ]
  },
  {
   "cell_type": "code",
   "execution_count": 147,
   "id": "299661e1",
   "metadata": {},
   "outputs": [
    {
     "data": {
      "text/plain": [
       "list"
      ]
     },
     "execution_count": 147,
     "metadata": {},
     "output_type": "execute_result"
    }
   ],
   "source": [
    "type(buses)"
   ]
  },
  {
   "cell_type": "markdown",
   "id": "4c77f0c7",
   "metadata": {},
   "source": [
    "\n",
    "3. Apunta la previsión de temperaturas máximas para todos los días de esta semana en `temperaturas`."
   ]
  },
  {
   "cell_type": "code",
   "execution_count": 148,
   "id": "875bd52d",
   "metadata": {},
   "outputs": [],
   "source": [
    "temperaturas = [23,22,20,17]"
   ]
  },
  {
   "cell_type": "code",
   "execution_count": 149,
   "id": "2363e146",
   "metadata": {},
   "outputs": [
    {
     "data": {
      "text/plain": [
       "list"
      ]
     },
     "execution_count": 149,
     "metadata": {},
     "output_type": "execute_result"
    }
   ],
   "source": [
    "type(temperaturas)"
   ]
  },
  {
   "cell_type": "markdown",
   "id": "09ee80eb",
   "metadata": {},
   "source": [
    "4. Convierte tu(s) nombre(s) a una lista `nombres` de caracteres."
   ]
  },
  {
   "cell_type": "code",
   "execution_count": 150,
   "id": "e2f47c9e",
   "metadata": {},
   "outputs": [
    {
     "data": {
      "text/plain": [
       "['A', 'n', 'a', 'M', 'a', 'g', 'd', 'a', 'l', 'a']"
      ]
     },
     "execution_count": 150,
     "metadata": {},
     "output_type": "execute_result"
    }
   ],
   "source": [
    "# No lo entendimos bien: lista de CARACTERES:\n",
    "# nombres = ['Ana', 'Magdala']\n",
    "nombres = 'AnaMagdala'\n",
    "lista_nombres = list(nombres)\n",
    "lista_nombres"
   ]
  },
  {
   "cell_type": "code",
   "execution_count": 151,
   "id": "b32501a3",
   "metadata": {},
   "outputs": [
    {
     "data": {
      "text/plain": [
       "list"
      ]
     },
     "execution_count": 151,
     "metadata": {},
     "output_type": "execute_result"
    }
   ],
   "source": [
    "type(lista_nombres)"
   ]
  },
  {
   "cell_type": "code",
   "execution_count": 152,
   "id": "239cc90d",
   "metadata": {},
   "outputs": [
    {
     "data": {
      "text/plain": [
       "str"
      ]
     },
     "execution_count": 152,
     "metadata": {},
     "output_type": "execute_result"
    }
   ],
   "source": [
    "type(nombres[0])"
   ]
  },
  {
   "cell_type": "markdown",
   "id": "3dd274de",
   "metadata": {},
   "source": [
    "\n",
    "5. Convierte tu(s) apellido(s) a una lista `apellidos` de caracteres."
   ]
  },
  {
   "cell_type": "code",
   "execution_count": 153,
   "id": "6f2b0656",
   "metadata": {},
   "outputs": [
    {
     "data": {
      "text/plain": [
       "['P', 'é', 'r', 'e', 'z', 'n', 'i', 'm', 'o', 'r', 'o', 'b', 'l', 'e', 's']"
      ]
     },
     "execution_count": 153,
     "metadata": {},
     "output_type": "execute_result"
    }
   ],
   "source": [
    "# No lo entendimos bien: lista de CARACTERES:\n",
    "# apellidos = ['Pérez Nimo', 'Robles']\n",
    "apellidos = 'Péreznimorobles'\n",
    "lista_apellidos = list(apellidos)\n",
    "lista_apellidos"
   ]
  },
  {
   "cell_type": "code",
   "execution_count": 154,
   "id": "271b7a28",
   "metadata": {},
   "outputs": [
    {
     "data": {
      "text/plain": [
       "list"
      ]
     },
     "execution_count": 154,
     "metadata": {},
     "output_type": "execute_result"
    }
   ],
   "source": [
    "type(lista_apellidos)"
   ]
  },
  {
   "cell_type": "markdown",
   "id": "0c61581e",
   "metadata": {},
   "source": [
    "6. ¿Cuántos búses pasan por tu casa?"
   ]
  },
  {
   "cell_type": "code",
   "execution_count": 155,
   "id": "58fe0a47",
   "metadata": {},
   "outputs": [
    {
     "data": {
      "text/plain": [
       "3"
      ]
     },
     "execution_count": 155,
     "metadata": {},
     "output_type": "execute_result"
    }
   ],
   "source": [
    "len(buses)"
   ]
  },
  {
   "cell_type": "markdown",
   "id": "78172e0c",
   "metadata": {},
   "source": [
    "7. ¿Cuántos caracteres hay en tu apellido(s) (inluyendo los espacios)?"
   ]
  },
  {
   "cell_type": "code",
   "execution_count": 156,
   "id": "5c06da85",
   "metadata": {},
   "outputs": [
    {
     "data": {
      "text/plain": [
       "15"
      ]
     },
     "execution_count": 156,
     "metadata": {},
     "output_type": "execute_result"
    }
   ],
   "source": [
    "len(lista_apellidos)"
   ]
  },
  {
   "cell_type": "code",
   "execution_count": 157,
   "id": "d9f70ccb",
   "metadata": {},
   "outputs": [
    {
     "data": {
      "text/plain": [
       "15"
      ]
     },
     "execution_count": 157,
     "metadata": {},
     "output_type": "execute_result"
    }
   ],
   "source": [
    "# comprobación de lo que habíamos ido haciendo nosotras:\n",
    "lista_apellidos_separados= ['Péreznimo', 'Robles']\n",
    "caracteres_apellidos = len(lista_apellidos_separados[0]) + len(lista_apellidos_separados[1])\n",
    "caracteres_apellidos"
   ]
  },
  {
   "cell_type": "markdown",
   "id": "4070be13",
   "metadata": {},
   "source": [
    "8. ¿Cuáles son las temperaturas máximas (`t_max`) y mínimas (`t_min`) para esta semana?"
   ]
  },
  {
   "cell_type": "code",
   "execution_count": 158,
   "id": "88991a44",
   "metadata": {},
   "outputs": [],
   "source": [
    "\n",
    "t_max = max(temperaturas)\n",
    "t_min = min(temperaturas)\n"
   ]
  },
  {
   "cell_type": "code",
   "execution_count": 159,
   "id": "7d20b607",
   "metadata": {},
   "outputs": [
    {
     "name": "stdout",
     "output_type": "stream",
     "text": [
      "23\n",
      "17\n"
     ]
    }
   ],
   "source": [
    "print(t_max)\n",
    "print(t_min)"
   ]
  },
  {
   "cell_type": "markdown",
   "id": "ad3355a2",
   "metadata": {},
   "source": [
    "9. Hay una 'e' en tu nombre?"
   ]
  },
  {
   "cell_type": "code",
   "execution_count": 160,
   "id": "be25dd60",
   "metadata": {},
   "outputs": [
    {
     "data": {
      "text/plain": [
       "False"
      ]
     },
     "execution_count": 160,
     "metadata": {},
     "output_type": "execute_result"
    }
   ],
   "source": [
    "'e' in lista_nombres"
   ]
  },
  {
   "cell_type": "markdown",
   "id": "f71bc734",
   "metadata": {},
   "source": [
    "10. Tienes el color 'rosa' en la lista de colores?"
   ]
  },
  {
   "cell_type": "code",
   "execution_count": 161,
   "id": "638ca45a",
   "metadata": {},
   "outputs": [
    {
     "data": {
      "text/plain": [
       "False"
      ]
     },
     "execution_count": 161,
     "metadata": {},
     "output_type": "execute_result"
    }
   ],
   "source": [
    "'rosa' in colores"
   ]
  },
  {
   "cell_type": "markdown",
   "id": "1093164e",
   "metadata": {},
   "source": [
    "11. ¿Tiene una 'x' tu nombre? (Usa `not in`)"
   ]
  },
  {
   "cell_type": "code",
   "execution_count": 162,
   "id": "58aa9a54",
   "metadata": {},
   "outputs": [
    {
     "data": {
      "text/plain": [
       "True"
      ]
     },
     "execution_count": 162,
     "metadata": {},
     "output_type": "execute_result"
    }
   ],
   "source": [
    "'x' not in lista_nombres"
   ]
  },
  {
   "cell_type": "markdown",
   "id": "373eaa02",
   "metadata": {},
   "source": [
    "12. Copia el contenido de `temperaturas` a `temperaturas2`, y `temperaturas3`."
   ]
  },
  {
   "cell_type": "code",
   "execution_count": 163,
   "id": "2b9677ef",
   "metadata": {},
   "outputs": [],
   "source": [
    "temperaturas2 = temperaturas.copy()"
   ]
  },
  {
   "cell_type": "code",
   "execution_count": 164,
   "id": "d44e1224",
   "metadata": {},
   "outputs": [
    {
     "data": {
      "text/plain": [
       "[23, 22, 20, 17]"
      ]
     },
     "execution_count": 164,
     "metadata": {},
     "output_type": "execute_result"
    }
   ],
   "source": [
    "temperaturas2"
   ]
  },
  {
   "cell_type": "code",
   "execution_count": 165,
   "id": "4c5973d9",
   "metadata": {},
   "outputs": [
    {
     "data": {
      "text/plain": [
       "list"
      ]
     },
     "execution_count": 165,
     "metadata": {},
     "output_type": "execute_result"
    }
   ],
   "source": [
    "type(temperaturas2)"
   ]
  },
  {
   "cell_type": "code",
   "execution_count": 166,
   "id": "3cd9324e",
   "metadata": {},
   "outputs": [
    {
     "data": {
      "text/plain": [
       "[23, 22, 20, 17]"
      ]
     },
     "execution_count": 166,
     "metadata": {},
     "output_type": "execute_result"
    }
   ],
   "source": [
    "temperaturas"
   ]
  },
  {
   "cell_type": "code",
   "execution_count": 167,
   "id": "b351ec85",
   "metadata": {},
   "outputs": [
    {
     "data": {
      "text/plain": [
       "[23, 22, 20, 17]"
      ]
     },
     "execution_count": 167,
     "metadata": {},
     "output_type": "execute_result"
    }
   ],
   "source": [
    "temperaturas2"
   ]
  },
  {
   "cell_type": "code",
   "execution_count": 168,
   "id": "d7cb806a",
   "metadata": {},
   "outputs": [
    {
     "data": {
      "text/plain": [
       "[23, 22, 20, 17]"
      ]
     },
     "execution_count": 168,
     "metadata": {},
     "output_type": "execute_result"
    }
   ],
   "source": [
    "temperaturas3 = temperaturas.copy()\n",
    "temperaturas3"
   ]
  },
  {
   "cell_type": "code",
   "execution_count": 169,
   "id": "467b416e",
   "metadata": {},
   "outputs": [],
   "source": [
    "# temperaturas = temperaturas 2 se nos cambian ambas\n",
    "# temperaturas[0] = 50\n",
    "# temperaturas"
   ]
  },
  {
   "cell_type": "code",
   "execution_count": 170,
   "id": "d457ddcd",
   "metadata": {},
   "outputs": [
    {
     "data": {
      "text/plain": [
       "[23, 22, 20, 17]"
      ]
     },
     "execution_count": 170,
     "metadata": {},
     "output_type": "execute_result"
    }
   ],
   "source": [
    "temperaturas2"
   ]
  },
  {
   "cell_type": "code",
   "execution_count": 171,
   "id": "1eca1308",
   "metadata": {},
   "outputs": [
    {
     "data": {
      "text/plain": [
       "[23, 22, 20, 17]"
      ]
     },
     "execution_count": 171,
     "metadata": {},
     "output_type": "execute_result"
    }
   ],
   "source": [
    "temperaturas3"
   ]
  },
  {
   "cell_type": "markdown",
   "id": "b007b1de",
   "metadata": {},
   "source": [
    "13. Vacía el contenido de la variable `temperaturas2`"
   ]
  },
  {
   "cell_type": "code",
   "execution_count": 172,
   "id": "858c9153",
   "metadata": {},
   "outputs": [
    {
     "data": {
      "text/plain": [
       "[]"
      ]
     },
     "execution_count": 172,
     "metadata": {},
     "output_type": "execute_result"
    }
   ],
   "source": [
    "temperaturas2.clear()\n",
    "temperaturas2"
   ]
  },
  {
   "cell_type": "markdown",
   "id": "62982067",
   "metadata": {},
   "source": [
    "14. Imprime el contenido de `temperaturas` y `temperaturas2`."
   ]
  },
  {
   "cell_type": "code",
   "execution_count": 173,
   "id": "ac7a730c",
   "metadata": {},
   "outputs": [
    {
     "name": "stdout",
     "output_type": "stream",
     "text": [
      "[23, 22, 20, 17]\n",
      "[]\n"
     ]
    }
   ],
   "source": [
    "print(temperaturas)\n",
    "print(temperaturas2)"
   ]
  },
  {
   "cell_type": "markdown",
   "id": "0aeaaf76",
   "metadata": {},
   "source": [
    "15. Copia el contenido de `nombres` a `nombres2`."
   ]
  },
  {
   "cell_type": "code",
   "execution_count": 174,
   "id": "1412d73b",
   "metadata": {},
   "outputs": [
    {
     "data": {
      "text/plain": [
       "['A', 'n', 'a', 'M', 'a', 'g', 'd', 'a', 'l', 'a']"
      ]
     },
     "execution_count": 174,
     "metadata": {},
     "output_type": "execute_result"
    }
   ],
   "source": [
    "lista_nombres2 = lista_nombres.copy()\n",
    "lista_nombres2"
   ]
  },
  {
   "cell_type": "markdown",
   "id": "b93d16cd",
   "metadata": {},
   "source": [
    "16. Copia el contenido de `apellidos` a `apellidos2`."
   ]
  },
  {
   "cell_type": "code",
   "execution_count": 175,
   "id": "7ec17e62",
   "metadata": {},
   "outputs": [
    {
     "data": {
      "text/plain": [
       "['P', 'é', 'r', 'e', 'z', 'n', 'i', 'm', 'o', 'r', 'o', 'b', 'l', 'e', 's']"
      ]
     },
     "execution_count": 175,
     "metadata": {},
     "output_type": "execute_result"
    }
   ],
   "source": [
    "lista_apellidos2 = lista_apellidos.copy()\n",
    "lista_apellidos2"
   ]
  },
  {
   "cell_type": "markdown",
   "id": "70e0a5a1",
   "metadata": {},
   "source": [
    "17. Ordena la variable `temperaturas3` de menor a mayor."
   ]
  },
  {
   "cell_type": "code",
   "execution_count": 176,
   "id": "69a26e6a",
   "metadata": {},
   "outputs": [
    {
     "data": {
      "text/plain": [
       "[17, 20, 22, 23]"
      ]
     },
     "execution_count": 176,
     "metadata": {},
     "output_type": "execute_result"
    }
   ],
   "source": [
    "temperaturas3.sort()\n",
    "temperaturas3"
   ]
  },
  {
   "cell_type": "code",
   "execution_count": 177,
   "id": "a8ab6a9d",
   "metadata": {},
   "outputs": [
    {
     "data": {
      "text/plain": [
       "[23, 22, 20, 17]"
      ]
     },
     "execution_count": 177,
     "metadata": {},
     "output_type": "execute_result"
    }
   ],
   "source": [
    "# de mayor a menor (por defecto de m a M)\n",
    "temperaturas3.sort( reverse = True)\n",
    "temperaturas3"
   ]
  },
  {
   "cell_type": "markdown",
   "id": "f9793f50",
   "metadata": {},
   "source": [
    "18. Ordena los caracteres de tu nombre y tu apellido en las listas `nombres2` y `apellidos2`. Imprime el resultado y investiga: ¿qué orden ha cogido? ¿Cómo trata las mayúsculas?"
   ]
  },
  {
   "cell_type": "code",
   "execution_count": 178,
   "id": "cadae8be",
   "metadata": {},
   "outputs": [
    {
     "name": "stdout",
     "output_type": "stream",
     "text": [
      "['A', 'M', 'a', 'a', 'a', 'a', 'd', 'g', 'l', 'n']\n",
      "['P', 'b', 'e', 'e', 'i', 'l', 'm', 'n', 'o', 'o', 'r', 'r', 's', 'z', 'é']\n"
     ]
    }
   ],
   "source": [
    "lista_nombres2.sort()\n",
    "lista_apellidos2.sort()\n",
    "print(lista_nombres2)   # En el caso de la lista con dos nombres separados:\n",
    "# pone primero el nombre que empieza por A\n",
    "print(lista_apellidos2) # En el caso de la lista con dos apellidos separados:\n",
    "# pone primero el apellido con la incial en orden alfabético"
   ]
  },
  {
   "cell_type": "markdown",
   "id": "d24acd54",
   "metadata": {},
   "source": [
    "19. ¿Cuántas 'a' tiene tu nombre? ¿Y cuántas 'o'?"
   ]
  },
  {
   "cell_type": "code",
   "execution_count": 179,
   "id": "ecee9a48",
   "metadata": {},
   "outputs": [
    {
     "name": "stdout",
     "output_type": "stream",
     "text": [
      "4\n",
      "0\n"
     ]
    }
   ],
   "source": [
    "print(lista_nombres.count('a'))\n",
    "print(lista_nombres.count('o'))"
   ]
  },
  {
   "cell_type": "markdown",
   "id": "7ecbbbc7",
   "metadata": {},
   "source": [
    "20. Verifica si los resultados de ejercicio 19 son iguales para la lista `nombres2`."
   ]
  },
  {
   "cell_type": "code",
   "execution_count": 180,
   "id": "f16bbdcd",
   "metadata": {},
   "outputs": [
    {
     "name": "stdout",
     "output_type": "stream",
     "text": [
      "4\n",
      "0\n"
     ]
    }
   ],
   "source": [
    "print(lista_nombres2.count('a'))\n",
    "print(lista_nombres2.count('o'))"
   ]
  },
  {
   "cell_type": "markdown",
   "id": "58b1f4f4",
   "metadata": {},
   "source": [
    "21. ¿Cuántas veces esta semana llega la temperatura a la `t_max`? ¿Y cuántas a la `t_min`?"
   ]
  },
  {
   "cell_type": "code",
   "execution_count": 181,
   "id": "cbe158a9",
   "metadata": {},
   "outputs": [
    {
     "name": "stdout",
     "output_type": "stream",
     "text": [
      "1\n",
      "1\n"
     ]
    }
   ],
   "source": [
    "print(temperaturas.count(t_max))\n",
    "print(temperaturas.count(t_min))"
   ]
  },
  {
   "cell_type": "markdown",
   "id": "f3e3113f",
   "metadata": {},
   "source": [
    "22. La lista dias_en contiene 'monday', 'tuesday', 'wednesday', 'thursday', 'friday', 'saturday', y 'sunday'"
   ]
  },
  {
   "cell_type": "code",
   "execution_count": 182,
   "id": "8156450b",
   "metadata": {},
   "outputs": [
    {
     "data": {
      "text/plain": [
       "['monday', 'tuesday', 'wednesday', 'thursday', 'friday', 'saturday', 'sunday']"
      ]
     },
     "execution_count": 182,
     "metadata": {},
     "output_type": "execute_result"
    }
   ],
   "source": [
    "dias_en = ['monday', 'tuesday', 'wednesday', 'thursday', 'friday', 'saturday',  'sunday']\n",
    "dias_en"
   ]
  },
  {
   "cell_type": "markdown",
   "id": "2d259888",
   "metadata": {},
   "source": [
    "23. Define temperaturas_diciembre 👇🏽:"
   ]
  },
  {
   "cell_type": "code",
   "execution_count": 183,
   "id": "b73ad541",
   "metadata": {},
   "outputs": [],
   "source": [
    "temperaturas_diciembre = [10, 10, 13, 14, 12, 15, \n",
    "                            12, 11, 13, 17, 18, 15, \n",
    "                            15, 17, 17, 13, 13, 11,\n",
    "                            12, 10, 12, 14, 12, 12,\n",
    "                            11, 12, 16, 16, 14, 17, 18]"
   ]
  },
  {
   "cell_type": "markdown",
   "id": "723e9fff",
   "metadata": {},
   "source": [
    "24. ¿Cuál es el penúltimo día de la semana?"
   ]
  },
  {
   "cell_type": "code",
   "execution_count": 184,
   "id": "fa862a75",
   "metadata": {},
   "outputs": [
    {
     "data": {
      "text/plain": [
       "'saturday'"
      ]
     },
     "execution_count": 184,
     "metadata": {},
     "output_type": "execute_result"
    }
   ],
   "source": [
    "penúltimo_dia = dias_en[-2]\n",
    "penúltimo_dia"
   ]
  },
  {
   "cell_type": "markdown",
   "id": "0ebe2397",
   "metadata": {},
   "source": [
    "25. ¿Cuál es el último elemento de la lista de temperaturas de diciembre? "
   ]
  },
  {
   "cell_type": "code",
   "execution_count": 185,
   "id": "9177b9f1",
   "metadata": {},
   "outputs": [
    {
     "data": {
      "text/plain": [
       "18"
      ]
     },
     "execution_count": 185,
     "metadata": {},
     "output_type": "execute_result"
    }
   ],
   "source": [
    "último_elemento_temp = temperaturas_diciembre [-1]\n",
    "último_elemento_temp"
   ]
  },
  {
   "cell_type": "markdown",
   "id": "8a0cefbd",
   "metadata": {},
   "source": [
    "26. ¿Está 'friday' en la lista de días en inglés? Si está, ¿dónde?"
   ]
  },
  {
   "cell_type": "code",
   "execution_count": 186,
   "id": "0baa6f48",
   "metadata": {},
   "outputs": [
    {
     "data": {
      "text/plain": [
       "4"
      ]
     },
     "execution_count": 186,
     "metadata": {},
     "output_type": "execute_result"
    }
   ],
   "source": [
    "dias_en.index('friday')"
   ]
  },
  {
   "cell_type": "markdown",
   "id": "4d305478",
   "metadata": {},
   "source": [
    "28. Encuentra el índice de 'miércoles' en dias_es."
   ]
  },
  {
   "cell_type": "code",
   "execution_count": 187,
   "id": "0f84d198",
   "metadata": {},
   "outputs": [
    {
     "data": {
      "text/plain": [
       "2"
      ]
     },
     "execution_count": 187,
     "metadata": {},
     "output_type": "execute_result"
    }
   ],
   "source": [
    "dias_en.index('wednesday')"
   ]
  },
  {
   "cell_type": "markdown",
   "id": "1441caed",
   "metadata": {},
   "source": [
    "29. (Bonus) Imprime esta frase en pantalla: \n",
    "\n",
    "La temperatura máxima esta semana será ---, que ocurrirá en -- días(s). \n",
    "\n",
    "El día más frío tendrá una temperatura máxima de ---, que ocurrirá en -- día(s)."
   ]
  },
  {
   "cell_type": "code",
   "execution_count": 188,
   "id": "389bc7da",
   "metadata": {},
   "outputs": [
    {
     "name": "stdout",
     "output_type": "stream",
     "text": [
      "La temperatura máxima esta semana será 23 ºC, que ocurrirá en 1 días(s).\n",
      "El día más friolero tendrá una temperatura máxima de 17 ºC, que ocurrirá en 1 día(s).\n"
     ]
    }
   ],
   "source": [
    "print(f'La temperatura máxima esta semana será {t_max} ºC, que ocurrirá en {temperaturas.count(t_max)} días(s).') \n",
    "print(f'El día más friolero tendrá una temperatura máxima de {t_min} ºC, que ocurrirá en {temperaturas.count(t_min)} día(s).')"
   ]
  },
  {
   "cell_type": "markdown",
   "id": "7b35acfb",
   "metadata": {},
   "source": [
    "# Tuplas\n",
    "### Definir tuplas\n",
    "1. Crea una tupla `persona1` para juntar los siguientes datos: 61 kg, 1.54 m altura, pelo marrón, sin usar paréntesis. (Serán del tipo `int`, `float` y `str`.)"
   ]
  },
  {
   "cell_type": "code",
   "execution_count": 189,
   "id": "655b1f21",
   "metadata": {},
   "outputs": [
    {
     "name": "stdout",
     "output_type": "stream",
     "text": [
      "(61, 1.54, 'pelo marrón')\n",
      "<class 'tuple'>\n"
     ]
    }
   ],
   "source": [
    "persona1 = 61, 1.54, 'pelo marrón'\n",
    "print(persona1)\n",
    "print(type(persona1))"
   ]
  },
  {
   "cell_type": "markdown",
   "id": "844b1cc2",
   "metadata": {},
   "source": [
    "2. Crea una tupla para la `persona2` de 68 kg, 1.65 m y pelo rubio, usando paréntesis"
   ]
  },
  {
   "cell_type": "code",
   "execution_count": 190,
   "id": "622959df",
   "metadata": {},
   "outputs": [],
   "source": [
    "persona2 = 68, 1.65, 'pelo rubio'"
   ]
  },
  {
   "cell_type": "markdown",
   "id": "697b5fee",
   "metadata": {},
   "source": [
    "3. Crea una lista `talla` que recompila 'M', 42, y 39."
   ]
  },
  {
   "cell_type": "code",
   "execution_count": 191,
   "id": "35e30870",
   "metadata": {},
   "outputs": [
    {
     "data": {
      "text/plain": [
       "['M', 42, 39]"
      ]
     },
     "execution_count": 191,
     "metadata": {},
     "output_type": "execute_result"
    }
   ],
   "source": [
    "lista_talla = ['M', 42, 39]\n",
    "lista_talla"
   ]
  },
  {
   "cell_type": "markdown",
   "id": "3945b562",
   "metadata": {},
   "source": [
    "### Convertir y juntar\n",
    "4. Convierte la lista `talla` a una tupla."
   ]
  },
  {
   "cell_type": "code",
   "execution_count": 192,
   "id": "910f7080",
   "metadata": {},
   "outputs": [
    {
     "name": "stdout",
     "output_type": "stream",
     "text": [
      "('M', 42, 39)\n",
      "<class 'tuple'>\n"
     ]
    }
   ],
   "source": [
    "talla = tuple(lista_talla)\n",
    "print(talla)\n",
    "print(type(talla))"
   ]
  },
  {
   "cell_type": "markdown",
   "id": "7991320c",
   "metadata": {},
   "source": [
    "5. Une a la tupla de `persona1` los datos de `talla`."
   ]
  },
  {
   "cell_type": "code",
   "execution_count": 193,
   "id": "266566b6",
   "metadata": {},
   "outputs": [
    {
     "data": {
      "text/plain": [
       "(61, 1.54, 'pelo marrón', 'M', 42, 39)"
      ]
     },
     "execution_count": 193,
     "metadata": {},
     "output_type": "execute_result"
    }
   ],
   "source": [
    "persona1_ampliado = persona1 + talla\n",
    "persona1_ampliado"
   ]
  },
  {
   "cell_type": "markdown",
   "id": "b2082249",
   "metadata": {},
   "source": [
    "### Indexar tuplas\n",
    "6. Saca de `persona2` el contenido del tercer elemento y llámalo `color`."
   ]
  },
  {
   "cell_type": "code",
   "execution_count": 194,
   "id": "1fa6d234",
   "metadata": {},
   "outputs": [
    {
     "data": {
      "text/plain": [
       "'pelo rubio'"
      ]
     },
     "execution_count": 194,
     "metadata": {},
     "output_type": "execute_result"
    }
   ],
   "source": [
    "color = persona2[2]\n",
    "color"
   ]
  },
  {
   "cell_type": "code",
   "execution_count": 195,
   "id": "e63ad46d",
   "metadata": {},
   "outputs": [
    {
     "data": {
      "text/plain": [
       "str"
      ]
     },
     "execution_count": 195,
     "metadata": {},
     "output_type": "execute_result"
    }
   ],
   "source": [
    "type(color)"
   ]
  },
  {
   "cell_type": "markdown",
   "id": "d56eeb98",
   "metadata": {},
   "source": [
    "7. ¿Cuántos elementos hay ahora en `persona1`? (Es decir, ¿cuál es su longitud?)"
   ]
  },
  {
   "cell_type": "code",
   "execution_count": 196,
   "id": "966677e2",
   "metadata": {},
   "outputs": [
    {
     "data": {
      "text/plain": [
       "3"
      ]
     },
     "execution_count": 196,
     "metadata": {},
     "output_type": "execute_result"
    }
   ],
   "source": [
    "len(persona1)"
   ]
  },
  {
   "cell_type": "markdown",
   "id": "916c795d",
   "metadata": {},
   "source": [
    "### Desempaquetar\n",
    "8. Crea las variables `peso`, `altura`, `color`, `camiseta`, `pantalon`, y `zapatos` y llénalas con el contenido de `persona1`. Imprime `camiseta` para comprobar el resultado."
   ]
  },
  {
   "cell_type": "code",
   "execution_count": 197,
   "id": "60803900",
   "metadata": {},
   "outputs": [],
   "source": [
    "peso, altura, color, camiseta, pantalon, zapatos = persona1_ampliado"
   ]
  },
  {
   "cell_type": "code",
   "execution_count": 198,
   "id": "acd216db",
   "metadata": {},
   "outputs": [
    {
     "name": "stdout",
     "output_type": "stream",
     "text": [
      "M\n",
      "1.54\n",
      "39\n"
     ]
    }
   ],
   "source": [
    "print(camiseta)\n",
    "print(altura)\n",
    "print(zapatos)"
   ]
  },
  {
   "cell_type": "markdown",
   "id": "ca5ba108",
   "metadata": {},
   "source": [
    "### Zipear\n",
    "9. Crea el zip `personas` con `persona1` y `persona2`."
   ]
  },
  {
   "cell_type": "code",
   "execution_count": 199,
   "id": "07b3f1d5",
   "metadata": {},
   "outputs": [
    {
     "data": {
      "text/plain": [
       "[(61, 68), (1.54, 1.65), ('pelo marrón', 'pelo rubio')]"
      ]
     },
     "execution_count": 199,
     "metadata": {},
     "output_type": "execute_result"
    }
   ],
   "source": [
    "# zip nos COMBINA las tuplas, uniendo los primeros valores, los segundos, etc:\n",
    "# te crea una LISTA de TUPLAS\n",
    "zip_personas = zip(persona1, persona2)\n",
    "lista_personas = list(zip_personas)\n",
    "lista_personas"
   ]
  },
  {
   "cell_type": "code",
   "execution_count": 200,
   "id": "c5aefac6",
   "metadata": {},
   "outputs": [
    {
     "data": {
      "text/plain": [
       "tuple"
      ]
     },
     "execution_count": 200,
     "metadata": {},
     "output_type": "execute_result"
    }
   ],
   "source": [
    "type(lista_personas[1])"
   ]
  },
  {
   "cell_type": "markdown",
   "id": "c9e23f0b",
   "metadata": {},
   "source": [
    "10. ¿Cuántas \"elementos\" tiene `personas`? ¿Por qué?"
   ]
  },
  {
   "cell_type": "code",
   "execution_count": 201,
   "id": "b850f807",
   "metadata": {},
   "outputs": [
    {
     "name": "stdout",
     "output_type": "stream",
     "text": [
      "Lista_personas tiene 3, porque es el núm de tuplas que tiene\n"
     ]
    }
   ],
   "source": [
    "elementos_lista_personas = len(lista_personas)\n",
    "print(f'Lista_personas tiene {elementos_lista_personas}, porque es el núm de tuplas que tiene')"
   ]
  },
  {
   "cell_type": "markdown",
   "id": "d3d57acc",
   "metadata": {},
   "source": [
    "11. Crea una tupla `etiquetas` con `'peso'`, `'altura'`, y `'color'`."
   ]
  },
  {
   "cell_type": "code",
   "execution_count": 202,
   "id": "dbbef5ef",
   "metadata": {},
   "outputs": [
    {
     "data": {
      "text/plain": [
       "('peso', 'altura', 'color')"
      ]
     },
     "execution_count": 202,
     "metadata": {},
     "output_type": "execute_result"
    }
   ],
   "source": [
    "etiquetas = 'peso', 'altura', 'color'\n",
    "etiquetas"
   ]
  },
  {
   "cell_type": "markdown",
   "id": "89d87836",
   "metadata": {},
   "source": [
    "12. Crea al zip de `etiquetas`, `persona1`, y `persona2`."
   ]
  },
  {
   "cell_type": "code",
   "execution_count": 203,
   "id": "aa90ecfd",
   "metadata": {},
   "outputs": [
    {
     "data": {
      "text/plain": [
       "[('peso', 61, 68),\n",
       " ('altura', 1.54, 1.65),\n",
       " ('color', 'pelo marrón', 'pelo rubio')]"
      ]
     },
     "execution_count": 203,
     "metadata": {},
     "output_type": "execute_result"
    }
   ],
   "source": [
    "zip_etiquetas_personas = zip(etiquetas, persona1, persona2)\n",
    "etiquetas_personas = list(zip_etiquetas_personas)\n",
    "etiquetas_personas"
   ]
  },
  {
   "cell_type": "markdown",
   "id": "e7fb230c",
   "metadata": {},
   "source": [
    "### Manipular zips\n",
    "13. Ordena las propiedades de la variable `personas` alfabéticamente. "
   ]
  },
  {
   "cell_type": "code",
   "execution_count": 204,
   "id": "35e3e91e",
   "metadata": {},
   "outputs": [
    {
     "data": {
      "text/plain": [
       "[(61, 68), (1.54, 1.65), ('pelo marrón', 'pelo rubio')]"
      ]
     },
     "execution_count": 204,
     "metadata": {},
     "output_type": "execute_result"
    }
   ],
   "source": [
    "lista_personas"
   ]
  },
  {
   "cell_type": "markdown",
   "id": "bc64b7d6",
   "metadata": {},
   "source": [
    "--> NO se pueden ordenar: si hiciéramos \"lista_personas.sort()\" nos da error:\n",
    "no podemos ordenar diferentes tipos de datos!!!!"
   ]
  }
 ],
 "metadata": {
  "kernelspec": {
   "display_name": "base",
   "language": "python",
   "name": "python3"
  },
  "language_info": {
   "codemirror_mode": {
    "name": "ipython",
    "version": 3
   },
   "file_extension": ".py",
   "mimetype": "text/x-python",
   "name": "python",
   "nbconvert_exporter": "python",
   "pygments_lexer": "ipython3",
   "version": "3.12.3"
  }
 },
 "nbformat": 4,
 "nbformat_minor": 5
}

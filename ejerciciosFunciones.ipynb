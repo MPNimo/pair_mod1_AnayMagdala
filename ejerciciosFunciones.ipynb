{
 "cells": [
  {
   "cell_type": "code",
   "execution_count": 4,
   "id": "bff734c2",
   "metadata": {},
   "outputs": [],
   "source": [
    "# 1. Calcular el área de un círculo.\n",
    "# Descripción: Crea una función llamada -calcular_area_circulo- que tome el radio como parámetro y devuelva el área del círculo.\n",
    "\n",
    "def calcular_area_circulo(radio):\n",
    "    area = 3.1416 * radio **2\n",
    "    print(area)\n"
   ]
  },
  {
   "cell_type": "code",
   "execution_count": null,
   "id": "7c45a0ba",
   "metadata": {},
   "outputs": [
    {
     "name": "stdout",
     "output_type": "stream",
     "text": [
      "12.5664\n"
     ]
    }
   ],
   "source": [
    "calcular_area_circulo(2)"
   ]
  },
  {
   "cell_type": "code",
   "execution_count": 13,
   "id": "b165c8e8",
   "metadata": {},
   "outputs": [],
   "source": [
    "# 2. Contar la cantidad de caracteres en una cadena.\n",
    "# Descripción: Crea una función llamada -contar_caracteres- que tome una cadena como parámetro y \n",
    "# devuelva la cantidad de caracteres que contiene.\n",
    "\n",
    "def contar_caracteres(cadena):\n",
    "    cantidad = len(cadena)  \n",
    "    print( f'La cantidad de caracteres que tiene \"{cadena}\" es de {cantidad}.')"
   ]
  },
  {
   "cell_type": "code",
   "execution_count": 19,
   "id": "1334ba4e",
   "metadata": {},
   "outputs": [
    {
     "name": "stdout",
     "output_type": "stream",
     "text": [
      "La cantidad de caracteres que tiene \"Hola mundo.\" es de 11.\n"
     ]
    }
   ],
   "source": [
    "contar_caracteres ('Hola mundo.')"
   ]
  },
  {
   "cell_type": "code",
   "execution_count": 38,
   "id": "746c85c9",
   "metadata": {},
   "outputs": [],
   "source": [
    "# 3. Determinar si una cadena es un palíndromo.\n",
    "# Descripción: Crea una función llamada -es_palindromo- que tome una cadena como parámetro y \n",
    "# devuelva -True- si es un palíndromo, o -False- si no lo es.\n",
    "\n",
    "def es_palindromo(cadena):\n",
    "    list_cadena = list(cadena.upper())\n",
    "    list2_cadena = list_cadena.copy()\n",
    "    list2_cadena.reverse()\n",
    "    print(list_cadena == list2_cadena)    \n",
    "    "
   ]
  },
  {
   "cell_type": "code",
   "execution_count": 39,
   "id": "e18ff026",
   "metadata": {},
   "outputs": [
    {
     "name": "stdout",
     "output_type": "stream",
     "text": [
      "True\n"
     ]
    }
   ],
   "source": [
    "es_palindromo ('Ana')"
   ]
  },
  {
   "cell_type": "code",
   "execution_count": 40,
   "id": "01f016ee",
   "metadata": {},
   "outputs": [
    {
     "name": "stdout",
     "output_type": "stream",
     "text": [
      "False\n"
     ]
    }
   ],
   "source": [
    "es_palindromo('Sofía')"
   ]
  },
  {
   "cell_type": "code",
   "execution_count": 36,
   "id": "7e39172b",
   "metadata": {},
   "outputs": [
    {
     "name": "stdout",
     "output_type": "stream",
     "text": [
      "['A', 'N', 'A']\n",
      "['A', 'N', 'A']\n"
     ]
    }
   ],
   "source": [
    "palabra = 'Ana'\n",
    "list_palabra = list(palabra.upper())\n",
    "list2_palabra = list_palabra.copy()\n",
    "list2_palabra.reverse()\n",
    "print(list_palabra)\n",
    "print(list2_palabra)"
   ]
  },
  {
   "cell_type": "code",
   "execution_count": 37,
   "id": "78459c7f",
   "metadata": {},
   "outputs": [
    {
     "data": {
      "text/plain": [
       "True"
      ]
     },
     "execution_count": 37,
     "metadata": {},
     "output_type": "execute_result"
    }
   ],
   "source": [
    "list_palabra == list2_palabra"
   ]
  },
  {
   "cell_type": "code",
   "execution_count": null,
   "id": "918bc401",
   "metadata": {},
   "outputs": [
    {
     "data": {
      "text/plain": [
       "2.0"
      ]
     },
     "execution_count": 50,
     "metadata": {},
     "output_type": "execute_result"
    }
   ],
   "source": [
    "\n",
    "# 4. Calcular el promedio de una lista de números.\n",
    "# Descripción: Crea una función llamada -calcular_promedio- que tome una lista de números como parámetro y \n",
    "# devuelva el promedio de todos sus elementos.\n",
    "\n",
    "def calcular_promedio (lista):\n",
    "    total = 0\n",
    "    for i in lista:\n",
    "        total += i # total = total + i\n",
    "    promedio = total / len(lista)        \n",
    "    return(promedio)\n",
    "\n",
    "\n",
    "lista= [1,2,3]\n",
    "calcular_promedio(lista)\n",
    "    "
   ]
  },
  {
   "cell_type": "code",
   "execution_count": 51,
   "id": "2843eeae",
   "metadata": {},
   "outputs": [
    {
     "data": {
      "text/plain": [
       "2.5"
      ]
     },
     "execution_count": 51,
     "metadata": {},
     "output_type": "execute_result"
    }
   ],
   "source": [
    "# otra forma de calcular el promedio:\n",
    "lista = [1,2,3,4]\n",
    "sum(lista) / len(lista)"
   ]
  },
  {
   "cell_type": "code",
   "execution_count": 52,
   "id": "fb643c55",
   "metadata": {},
   "outputs": [
    {
     "data": {
      "text/plain": [
       "3"
      ]
     },
     "execution_count": 52,
     "metadata": {},
     "output_type": "execute_result"
    }
   ],
   "source": [
    "# intento: funciona la suma cogiendo los índices, pero no nos vale para la función\n",
    "lista= [1,2,3]\n",
    "suma = lista[0] + lista [1]\n",
    "suma\n"
   ]
  },
  {
   "cell_type": "code",
   "execution_count": null,
   "id": "f2222961",
   "metadata": {},
   "outputs": [],
   "source": [
    "# 5. Calcular el interés compuesto.\n",
    "\n",
    "# Descripción: Crea una función llamada -calcular_interes_compuesto- que tome el capital inicial, \n",
    "# la tasa de interés y el número de períodos como parámetros y devuelva el beneficio final después del interés compuesto.\n",
    "\n",
    "def calcular_interes_compuesto(capital_incial, tasa_interes, num_periodos):\n",
    "    beneficio_final = capital_incial * ((1+tasa_interes) ** num_periodos)\n",
    "    return beneficio_final"
   ]
  },
  {
   "cell_type": "code",
   "execution_count": 55,
   "id": "0e17436d",
   "metadata": {},
   "outputs": [
    {
     "data": {
      "text/plain": [
       "100567.85937499997"
      ]
     },
     "execution_count": 55,
     "metadata": {},
     "output_type": "execute_result"
    }
   ],
   "source": [
    "calcular_interes_compuesto(50000, 0.15, 5)"
   ]
  },
  {
   "cell_type": "code",
   "execution_count": null,
   "id": "dc2567ec",
   "metadata": {},
   "outputs": [],
   "source": []
  }
 ],
 "metadata": {
  "kernelspec": {
   "display_name": "base",
   "language": "python",
   "name": "python3"
  },
  "language_info": {
   "codemirror_mode": {
    "name": "ipython",
    "version": 3
   },
   "file_extension": ".py",
   "mimetype": "text/x-python",
   "name": "python",
   "nbconvert_exporter": "python",
   "pygments_lexer": "ipython3",
   "version": "3.12.3"
  }
 },
 "nbformat": 4,
 "nbformat_minor": 5
}

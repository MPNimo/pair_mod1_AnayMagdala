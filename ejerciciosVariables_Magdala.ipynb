{
 "cells": [
  {
   "cell_type": "code",
   "execution_count": 1,
   "id": "342583de",
   "metadata": {},
   "outputs": [],
   "source": [
    "#1.Crea la variable gatos que sea un número con el valor 8.\n",
    "gatos = 8"
   ]
  },
  {
   "cell_type": "code",
   "execution_count": 2,
   "id": "40a65e33",
   "metadata": {},
   "outputs": [],
   "source": [
    "#2.Crea la variable perros que sea un texto de seis caracteres: la palabra cuatro.\n",
    "perros = \"cuatro\""
   ]
  },
  {
   "cell_type": "code",
   "execution_count": 3,
   "id": "6e454bc0",
   "metadata": {},
   "outputs": [
    {
     "name": "stdout",
     "output_type": "stream",
     "text": [
      "8\n"
     ]
    }
   ],
   "source": [
    "#3.Imprime la variable gatos.\n",
    "print(gatos)"
   ]
  },
  {
   "cell_type": "code",
   "execution_count": 4,
   "id": "f3e9bcef",
   "metadata": {},
   "outputs": [
    {
     "name": "stdout",
     "output_type": "stream",
     "text": [
      "cuatro\n"
     ]
    }
   ],
   "source": [
    "#4.Imprime la variable perros.\n",
    "print(perros)"
   ]
  },
  {
   "cell_type": "code",
   "execution_count": 5,
   "id": "b1371bcb",
   "metadata": {},
   "outputs": [
    {
     "name": "stdout",
     "output_type": "stream",
     "text": [
      "cuatro más cuatro\n"
     ]
    }
   ],
   "source": [
    "#5.Imprime la variable perros seguida por la palabra más y la palabra perros otra vez.\n",
    "print(perros + \" más \" + perros)"
   ]
  },
  {
   "cell_type": "code",
   "execution_count": 6,
   "id": "9d5957bb",
   "metadata": {},
   "outputs": [
    {
     "name": "stdout",
     "output_type": "stream",
     "text": [
      "cuatro más cuatro es igual a 8\n"
     ]
    }
   ],
   "source": [
    "#6.Consigue que el ordenador devuelva el siguiente texto, usando la variable perros: cuatro más cuatro es igual a 8.\n",
    "print(f\"{perros} más {perros} es igual a {gatos}\")"
   ]
  },
  {
   "cell_type": "code",
   "execution_count": 7,
   "id": "479990c7",
   "metadata": {},
   "outputs": [
    {
     "name": "stdout",
     "output_type": "stream",
     "text": [
      "cuatro + cuatro = 8\n"
     ]
    }
   ],
   "source": [
    "#7.Consigue que el ordenador devuelva el siguiente texto, usando la variable perros: cuatro + cuatro = 8.\n",
    "print(f\"{perros} + {perros} = {gatos}\")"
   ]
  },
  {
   "cell_type": "code",
   "execution_count": 8,
   "id": "12d5e986",
   "metadata": {},
   "outputs": [],
   "source": [
    "#8.Define una variable pizzas con un valor 2 que sea del tipo float.\n",
    "pizzas = 2.0"
   ]
  },
  {
   "cell_type": "code",
   "execution_count": 9,
   "id": "2893ee9c",
   "metadata": {},
   "outputs": [],
   "source": [
    "#9.Define magdalenas con un valor 2 que sea del tipo string.\n",
    "magdalenas = \"2\""
   ]
  },
  {
   "cell_type": "code",
   "execution_count": null,
   "id": "2e9da204",
   "metadata": {},
   "outputs": [],
   "source": [
    "#10.Define postres con un valor 0 que sea del tipo int. (ejercicio 13)\n",
    "postres = 0"
   ]
  },
  {
   "cell_type": "code",
   "execution_count": 11,
   "id": "c05125ba",
   "metadata": {},
   "outputs": [
    {
     "name": "stdout",
     "output_type": "stream",
     "text": [
      "<class 'float'>\n",
      "<class 'str'>\n"
     ]
    }
   ],
   "source": [
    "#11. ¿Qué tipo de dato es la variable pizzas?\n",
    "\n",
    "print(type(pizzas))  \n",
    "\n",
    "#12. ¿Es la variable magdalenas de tipo string?\n",
    "\n",
    "print(type(magdalenas))"
   ]
  },
  {
   "cell_type": "code",
   "execution_count": null,
   "id": "34d6c991",
   "metadata": {},
   "outputs": [
    {
     "data": {
      "text/plain": [
       "10.0"
      ]
     },
     "execution_count": 12,
     "metadata": {},
     "output_type": "execute_result"
    }
   ],
   "source": [
    "#14. Calcula la suma de gatos y pizzas.\n",
    "\n",
    "gatos + pizzas"
   ]
  },
  {
   "cell_type": "code",
   "execution_count": 16,
   "id": "a49c25b7",
   "metadata": {},
   "outputs": [
    {
     "data": {
      "text/plain": [
       "6.0"
      ]
     },
     "execution_count": 16,
     "metadata": {},
     "output_type": "execute_result"
    }
   ],
   "source": [
    "#15. Calcula la diferencia etre gatos y pizzas\n",
    "gatos - pizzas"
   ]
  },
  {
   "cell_type": "code",
   "execution_count": 17,
   "id": "415bd7ee",
   "metadata": {},
   "outputs": [
    {
     "data": {
      "text/plain": [
       "16"
      ]
     },
     "execution_count": 17,
     "metadata": {},
     "output_type": "execute_result"
    }
   ],
   "source": [
    "#16. Multiplica las cantidad de gatos por 2.\n",
    "2 * gatos"
   ]
  },
  {
   "cell_type": "code",
   "execution_count": 18,
   "id": "293c4dc1",
   "metadata": {},
   "outputs": [],
   "source": [
    "#17.Crea una variable piezas que sea 8 veces la cantidad de pizzas.\n",
    "\n",
    "piezas = 8 * pizzas"
   ]
  },
  {
   "cell_type": "code",
   "execution_count": 19,
   "id": "8b64fe9b",
   "metadata": {},
   "outputs": [],
   "source": [
    "#18.Haz que la cantidad de piezas se aumente en 3.\n",
    "\n",
    "piezas += 3"
   ]
  },
  {
   "cell_type": "code",
   "execution_count": 20,
   "id": "7351a196",
   "metadata": {},
   "outputs": [],
   "source": [
    "#19.Calcula el cuadrado de 9 y guárdalo en una variable llamada superficie.\n",
    "\n",
    "superficie = 9 ** 2"
   ]
  },
  {
   "cell_type": "code",
   "execution_count": 22,
   "id": "5c07d993",
   "metadata": {},
   "outputs": [
    {
     "data": {
      "text/plain": [
       "10.125"
      ]
     },
     "execution_count": 22,
     "metadata": {},
     "output_type": "execute_result"
    }
   ],
   "source": [
    "#20.¿Cuánta superficie hay por gato?\n",
    "\n",
    "superficie/gatos"
   ]
  },
  {
   "cell_type": "code",
   "execution_count": 23,
   "id": "17927dbb",
   "metadata": {},
   "outputs": [
    {
     "data": {
      "text/plain": [
       "2.0"
      ]
     },
     "execution_count": 23,
     "metadata": {},
     "output_type": "execute_result"
    }
   ],
   "source": [
    "#21. ¿Cuántas piezas enteras hay por gato? \n",
    "\n",
    "piezas // gatos"
   ]
  },
  {
   "cell_type": "code",
   "execution_count": null,
   "id": "bec71484",
   "metadata": {},
   "outputs": [
    {
     "data": {
      "text/plain": [
       "19"
      ]
     },
     "execution_count": 39,
     "metadata": {},
     "output_type": "execute_result"
    }
   ],
   "source": [
    "#22. ¿Cuántas piezas te quedan si cada gato se come 21 piezas?\n",
    "piezas % (gatos * 21)"
   ]
  },
  {
   "cell_type": "code",
   "execution_count": 26,
   "id": "129cb938",
   "metadata": {},
   "outputs": [
    {
     "name": "stdout",
     "output_type": "stream",
     "text": [
      "10.1\n"
     ]
    }
   ],
   "source": [
    "#23. ¿Cuánta superficie hay por gato en metros cuadrados? Redondeala a un sólo decimal. Intenta calcularlo dentro del mismo print() en una sola línea.\n",
    "\n",
    "print(round(superficie / gatos, 1))"
   ]
  },
  {
   "cell_type": "code",
   "execution_count": 27,
   "id": "d8b21b0a",
   "metadata": {},
   "outputs": [
    {
     "data": {
      "text/plain": [
       "True"
      ]
     },
     "execution_count": 27,
     "metadata": {},
     "output_type": "execute_result"
    }
   ],
   "source": [
    "#24. ¿Es verdad que hay más gatos que pizzas?\n",
    "\n",
    "gatos > pizzas"
   ]
  },
  {
   "cell_type": "code",
   "execution_count": 28,
   "id": "6f7ca927",
   "metadata": {},
   "outputs": [
    {
     "data": {
      "text/plain": [
       "True"
      ]
     },
     "execution_count": 28,
     "metadata": {},
     "output_type": "execute_result"
    }
   ],
   "source": [
    "#25. ¿Es verdad que hay menos gatos que superficie?\n",
    "\n",
    "gatos < superficie"
   ]
  },
  {
   "cell_type": "code",
   "execution_count": 29,
   "id": "a60934d9",
   "metadata": {},
   "outputs": [
    {
     "data": {
      "text/plain": [
       "True"
      ]
     },
     "execution_count": 29,
     "metadata": {},
     "output_type": "execute_result"
    }
   ],
   "source": [
    "#26. ¿Es verdad que 2 veces la cantidad de pizzas es distinto de la cantidad de gatos?\n",
    "\n",
    "2 * pizzas != gatos"
   ]
  },
  {
   "cell_type": "code",
   "execution_count": 30,
   "id": "3f25c9ad",
   "metadata": {},
   "outputs": [
    {
     "data": {
      "text/plain": [
       "False"
      ]
     },
     "execution_count": 30,
     "metadata": {},
     "output_type": "execute_result"
    }
   ],
   "source": [
    "#27. ¿Es falso que 2 veces la cantidad de pizzas es igual a la cantidad de gatos?\n",
    "\n",
    "2 * pizzas == gatos"
   ]
  },
  {
   "cell_type": "code",
   "execution_count": 40,
   "id": "3c41bdcc",
   "metadata": {},
   "outputs": [
    {
     "data": {
      "text/plain": [
       "True"
      ]
     },
     "execution_count": 40,
     "metadata": {},
     "output_type": "execute_result"
    }
   ],
   "source": [
    "not (2 * pizzas == gatos)"
   ]
  },
  {
   "cell_type": "code",
   "execution_count": null,
   "id": "3771fc83",
   "metadata": {},
   "outputs": [
    {
     "data": {
      "text/plain": [
       "True"
      ]
     },
     "execution_count": 41,
     "metadata": {},
     "output_type": "execute_result"
    }
   ],
   "source": [
    "#28. ¿La variable piezas, es mayor o igual a pizzas y superficie es distinto de cero?\n",
    "\n",
    "piezas >= pizzas and superficie != 0"
   ]
  },
  {
   "cell_type": "code",
   "execution_count": 42,
   "id": "1b9c770e",
   "metadata": {},
   "outputs": [
    {
     "data": {
      "text/plain": [
       "True"
      ]
     },
     "execution_count": 42,
     "metadata": {},
     "output_type": "execute_result"
    }
   ],
   "source": [
    "#29. ¿La variable piezas, es mayor o igual a pizzas y menor que superficie?\n",
    "\n",
    "piezas >= pizzas and piezas < superficie"
   ]
  },
  {
   "cell_type": "code",
   "execution_count": 44,
   "id": "b02a3595",
   "metadata": {},
   "outputs": [
    {
     "data": {
      "text/plain": [
       "False"
      ]
     },
     "execution_count": 44,
     "metadata": {},
     "output_type": "execute_result"
    }
   ],
   "source": [
    "#30. Me interesa saber si hay más pizzas que gatos, o si el residuo de piezas por gato es cero.\n",
    "\n",
    "(pizzas > gatos) or ((piezas % gatos) == 0)"
   ]
  },
  {
   "cell_type": "code",
   "execution_count": 45,
   "id": "f3c0628c",
   "metadata": {},
   "outputs": [
    {
     "data": {
      "text/plain": [
       "True"
      ]
     },
     "execution_count": 45,
     "metadata": {},
     "output_type": "execute_result"
    }
   ],
   "source": [
    "#31. Comprueba las comparaciones de 29 en una sola línea, sin usar la variable piezas más que una sola vez.\n",
    "\n",
    "pizzas <= piezas < superficie"
   ]
  },
  {
   "cell_type": "code",
   "execution_count": 48,
   "id": "286a9e23",
   "metadata": {},
   "outputs": [
    {
     "data": {
      "text/plain": [
       "True"
      ]
     },
     "execution_count": 48,
     "metadata": {},
     "output_type": "execute_result"
    }
   ],
   "source": [
    "#32. Comprueba si superficie es diferente a cero sin usar !=.\n",
    "\n",
    "not (superficie == 0)"
   ]
  },
  {
   "cell_type": "code",
   "execution_count": 50,
   "id": "494cd85c",
   "metadata": {},
   "outputs": [
    {
     "data": {
      "text/plain": [
       "True"
      ]
     },
     "execution_count": 50,
     "metadata": {},
     "output_type": "execute_result"
    }
   ],
   "source": [
    "bool(superficie) # no entiendo esta solución ¿?"
   ]
  },
  {
   "cell_type": "code",
   "execution_count": 51,
   "id": "45f84c09",
   "metadata": {},
   "outputs": [],
   "source": [
    "#33. Usa input() para preguntar a un usuario el día de su cumpleaños y guarda la respuesta en la variable dia_cumple.\n",
    "\n",
    "dia_cumple = input(\"Introduce el día de tu cumpleaños (en número)\")"
   ]
  },
  {
   "cell_type": "code",
   "execution_count": 52,
   "id": "fbd4ebd6",
   "metadata": {},
   "outputs": [],
   "source": [
    "#34. Usa input() para preguntar a un usuario el mes de su cumpleaños y guarda la respuesta en la variable mes_cumple.\n",
    "\n",
    "mes_cumple = input(\"Introduce tu mes de cumpleaños: \")\n"
   ]
  },
  {
   "cell_type": "code",
   "execution_count": 53,
   "id": "aa684667",
   "metadata": {},
   "outputs": [],
   "source": [
    "#35. Usa .strip() en ambas de las variables definidas.\n",
    "\n",
    "dia_cumple = input(\"Introduce el día de tu cumpleaños (en número)\").strip()\n",
    "mes_cumple = input(\"Introduce tu mes de cumpleaños: \").strip()"
   ]
  },
  {
   "cell_type": "code",
   "execution_count": 54,
   "id": "84da58b0",
   "metadata": {},
   "outputs": [],
   "source": [
    "#36. Haz que fecha_cumple sea un string compuesto por el día y el mes.\n",
    "\n",
    "fecha_cumple = dia_cumple + \" \" + mes_cumple"
   ]
  },
  {
   "cell_type": "code",
   "execution_count": 55,
   "id": "0fd1f291",
   "metadata": {},
   "outputs": [
    {
     "name": "stdout",
     "output_type": "stream",
     "text": [
      "Fecha de cumpleaños es 24 marzo\n"
     ]
    }
   ],
   "source": [
    "#37. Imprime Fecha de cumpleaños es más el día y el mes.\n",
    "\n",
    "print(\"Fecha de cumpleaños es \" + fecha_cumple)"
   ]
  },
  {
   "cell_type": "code",
   "execution_count": 56,
   "id": "3799151c",
   "metadata": {},
   "outputs": [
    {
     "data": {
      "text/plain": [
       "'CUATRO'"
      ]
     },
     "execution_count": 56,
     "metadata": {},
     "output_type": "execute_result"
    }
   ],
   "source": [
    "#38. Imprime la variable perros en todas mayúsculas.\n",
    "\n",
    "perros.upper()"
   ]
  }
 ],
 "metadata": {
  "kernelspec": {
   "display_name": "base",
   "language": "python",
   "name": "python3"
  },
  "language_info": {
   "codemirror_mode": {
    "name": "ipython",
    "version": 3
   },
   "file_extension": ".py",
   "mimetype": "text/x-python",
   "name": "python",
   "nbconvert_exporter": "python",
   "pygments_lexer": "ipython3",
   "version": "3.12.7"
  }
 },
 "nbformat": 4,
 "nbformat_minor": 5
}

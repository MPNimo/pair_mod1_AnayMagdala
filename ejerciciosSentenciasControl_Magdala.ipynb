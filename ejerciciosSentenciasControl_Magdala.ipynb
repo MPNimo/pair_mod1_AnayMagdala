{
 "cells": [
  {
   "cell_type": "markdown",
   "id": "33ce9738",
   "metadata": {},
   "source": [
    "1. Crea las siguientes variables:\n",
    "- `var1` sea un número con el valor `8`.\n",
    "- `var2` sea un número con el valor `2`.\n",
    "- `var3` sea un número con el valor `8`."
   ]
  },
  {
   "cell_type": "code",
   "execution_count": 1,
   "id": "4e36e569",
   "metadata": {},
   "outputs": [],
   "source": [
    "var1 = 8\n",
    "var2= 2\n",
    "var3= 8"
   ]
  },
  {
   "cell_type": "markdown",
   "id": "959bd4e0",
   "metadata": {},
   "source": [
    "2. Comprueba si var1 es mayor que 6, y si es así imprime ¡Es enorme!."
   ]
  },
  {
   "cell_type": "code",
   "execution_count": 2,
   "id": "6a0248e2",
   "metadata": {},
   "outputs": [
    {
     "name": "stdout",
     "output_type": "stream",
     "text": [
      "¡Es enorme!\n"
     ]
    }
   ],
   "source": [
    "if var1 > 6:\n",
    "    print('¡Es enorme!')\n"
   ]
  },
  {
   "cell_type": "markdown",
   "id": "84acf3e8",
   "metadata": {},
   "source": [
    "3. Comprueba si var2 es mayor que 6, y si es así imprime ¡Es enorme también!."
   ]
  },
  {
   "cell_type": "code",
   "execution_count": 5,
   "id": "e100889d",
   "metadata": {},
   "outputs": [],
   "source": [
    "if var2 > 6:\n",
    "     print('¡Es enorme también!')"
   ]
  },
  {
   "cell_type": "markdown",
   "id": "a70b5ffe",
   "metadata": {},
   "source": [
    "4. Comprueba si var3 es mayor que 6, y si es así imprime ¡Es enorme! seguido por ¡Pero de verdad! en otra línea (deberéis tener dos print)."
   ]
  },
  {
   "cell_type": "code",
   "execution_count": 6,
   "id": "c73f7ffa",
   "metadata": {},
   "outputs": [
    {
     "name": "stdout",
     "output_type": "stream",
     "text": [
      "¡Es enorme!\n",
      "Pero de verdad!\n"
     ]
    }
   ],
   "source": [
    "if var3 > 6:\n",
    "    print('¡Es enorme!')\n",
    "    print('Pero de verdad!')\n"
   ]
  },
  {
   "cell_type": "markdown",
   "id": "6b28ac6a",
   "metadata": {},
   "source": [
    "5. Comprueba si var1 es igual que var3, y si es así imprime Son iguales.."
   ]
  },
  {
   "cell_type": "code",
   "execution_count": 7,
   "id": "d0a1b5ab",
   "metadata": {},
   "outputs": [
    {
     "name": "stdout",
     "output_type": "stream",
     "text": [
      "Son iguales\n"
     ]
    }
   ],
   "source": [
    "if var1 == var3:\n",
    "    print('Son iguales')\n"
   ]
  },
  {
   "cell_type": "markdown",
   "id": "b0f6e315",
   "metadata": {},
   "source": [
    "6. Comprueba si var1 es igual que var2, y si es así imprime Son iguales."
   ]
  },
  {
   "cell_type": "code",
   "execution_count": 9,
   "id": "cf15b156",
   "metadata": {},
   "outputs": [],
   "source": [
    "if var1 == var2:\n",
    "    print('Son iguales')"
   ]
  },
  {
   "cell_type": "markdown",
   "id": "f08af7a3",
   "metadata": {},
   "source": [
    "\n",
    "7. Comprueba si var1 es mayor o igual que var2, y si es así calcula la diferencia entre var1 y var2, guárdala en la variable dif, e imprime 'La diferencia es',dif."
   ]
  },
  {
   "cell_type": "code",
   "execution_count": 11,
   "id": "6bd72f62",
   "metadata": {},
   "outputs": [
    {
     "name": "stdout",
     "output_type": "stream",
     "text": [
      "La diferencia es: 6\n"
     ]
    }
   ],
   "source": [
    "if var1 >= var2:\n",
    "    dif = var1 - var2\n",
    "    print(f'La diferencia es: {dif}')\n"
   ]
  },
  {
   "cell_type": "markdown",
   "id": "a5b74ad4",
   "metadata": {},
   "source": [
    "8. Comprueba si var1 es mayor que 6, y si es así imprime ¡Es enorme!. Si no es así imprime Es chiquitín.."
   ]
  },
  {
   "cell_type": "code",
   "execution_count": 13,
   "id": "b3d7bb61",
   "metadata": {},
   "outputs": [
    {
     "name": "stdout",
     "output_type": "stream",
     "text": [
      "¡Es enorme!\n"
     ]
    }
   ],
   "source": [
    "if var1 > 6:\n",
    "    print('¡Es enorme!')\n",
    "else:\n",
    "    print ('Es chiquitín.')"
   ]
  },
  {
   "cell_type": "markdown",
   "id": "b3494ab1",
   "metadata": {},
   "source": [
    "9. Comprueba si var2 es mayor que 6, y si es así imprime ¡Es enorme también!. Si no es así imprime Es chiquitín también.."
   ]
  },
  {
   "cell_type": "code",
   "execution_count": 14,
   "id": "1acc15a7",
   "metadata": {},
   "outputs": [
    {
     "name": "stdout",
     "output_type": "stream",
     "text": [
      "Es chiquitín también.\n"
     ]
    }
   ],
   "source": [
    "if var2 > 6:\n",
    "    print('¡Es enorme también!')\n",
    "else:\n",
    "    print ('Es chiquitín también.')"
   ]
  },
  {
   "cell_type": "markdown",
   "id": "7b04a508",
   "metadata": {},
   "source": [
    "10. Comprueba si var1 es igual a var3, y si es así imprime Son iguales. Si no es así imprime Son distintos."
   ]
  },
  {
   "cell_type": "code",
   "execution_count": 15,
   "id": "8acb1989",
   "metadata": {},
   "outputs": [
    {
     "name": "stdout",
     "output_type": "stream",
     "text": [
      "Son iguales.\n"
     ]
    }
   ],
   "source": [
    "if var1 == var3:\n",
    "    print('Son iguales.')\n",
    "else:\n",
    "    print('Son distintos')"
   ]
  },
  {
   "cell_type": "markdown",
   "id": "6a5f0288",
   "metadata": {},
   "source": [
    "11. Escribe un programa para una empresa que tiene salas de juegos para todas las edades y quiere calcular de forma automática el precio que debe cobrar a sus clientes por entrar. El programa debe preguntar al usuario:\n",
    "\n",
    "- La edad del cliente.\n",
    "\n",
    "- Las condiciones que tendremos que chequear:\n",
    "\n",
    "    - Si el cliente es menor de 4 años puede entrar gratis,\n",
    "\n",
    "    - Si tiene entre 4 y 18 años debe pagar 5€ y\n",
    "\n",
    "    - Si es mayor de 18 años, 10€."
   ]
  },
  {
   "cell_type": "code",
   "execution_count": 23,
   "id": "598eb298",
   "metadata": {},
   "outputs": [
    {
     "name": "stdout",
     "output_type": "stream",
     "text": [
      "10\n",
      "Debes pagar 5€\n"
     ]
    }
   ],
   "source": [
    "edad_cliente = int(input(f'¿Cuál es tu edad?'))\n",
    "\n",
    "print(edad_cliente)\n",
    "\n",
    "if edad_cliente < 4:\n",
    "    print('Puedes entrar gratis.')\n",
    "elif edad_cliente >= 4 and edad_cliente <= 18:\n",
    "    print('Debes pagar 5€')\n",
    "else:\n",
    "    print('Debes pagar 10€')\n",
    "\n",
    "\n",
    "\n"
   ]
  },
  {
   "cell_type": "markdown",
   "id": "e84d9510",
   "metadata": {},
   "source": [
    "12. Inicia la variable ahorros con un valor de 5. Crea un bucle while que mientras los ahorros sean igual o menor que 20 imprima por pantalla la cantidad de ahorros que tenemos, y añádele 5 más. Cuando la variable ahorros supere el valor de 20 el bucle deberá parar."
   ]
  },
  {
   "cell_type": "code",
   "execution_count": 24,
   "id": "2c25ce04",
   "metadata": {},
   "outputs": [
    {
     "name": "stdout",
     "output_type": "stream",
     "text": [
      "Los ahorros son: 5\n",
      "Los ahorros son: 10\n",
      "Los ahorros son: 15\n",
      "Los ahorros son: 20\n"
     ]
    }
   ],
   "source": [
    "ahorros = 5\n",
    "\n",
    "while ahorros <= 20:\n",
    "    print(f'Los ahorros son: {ahorros}')\n",
    "    ahorros += 5\n"
   ]
  },
  {
   "cell_type": "markdown",
   "id": "42f56b80",
   "metadata": {},
   "source": [
    "13. Escribe un programa que convierta grados Celsius a grados Fahrenheit o viceversa, según la elección del usuario. Para eso tendrás que preguntar:\n",
    "\n",
    "- Desde que unidades va a convertir la temperatura, Celsius o Fahrenheit.\n",
    "\n",
    "- Cuál es valor de la temperatura que quiere convertir."
   ]
  },
  {
   "cell_type": "code",
   "execution_count": 42,
   "id": "85322424",
   "metadata": {},
   "outputs": [
    {
     "name": "stdout",
     "output_type": "stream",
     "text": [
      "La unidad seleccionada es: Celsius\n",
      "La temperatura en Celsius es: 30.0\n",
      "La conversión a Fahrenheit es: 86.0\n"
     ]
    }
   ],
   "source": [
    "unidad_temperatura = input(f'¿Desde qué unidades va a convertir la temperatura? (Celsius, Fahrenheit)')\n",
    "unidad_temperatura= unidad_temperatura.capitalize()\n",
    "\n",
    "valor_temperatura = float(input(f'¿Cuál es el valor de la temperatura que quiere convertir?'))\n",
    "\n",
    "if unidad_temperatura == 'Celsius':\n",
    "    conversión_a_fahrenheit = (valor_temperatura * 9/5) + 32\n",
    "    print(f'La unidad seleccionada es: {unidad_temperatura}')\n",
    "    print(f'La temperatura en Celsius es: {valor_temperatura}')\n",
    "    print(f'La conversión a Fahrenheit es: {conversión_a_fahrenheit}')\n",
    "else:\n",
    "    conversión_a_celsius = (valor_temperatura - 32) * 5/9\n",
    "    print(f'La unidad seleccionada es: {unidad_temperatura}')\n",
    "    print(f'La temperatura en Fahrenheit es: {valor_temperatura}')\n",
    "    print(f'La conversión a Celsius es: {conversión_a_celsius}')\n",
    "\n"
   ]
  },
  {
   "cell_type": "code",
   "execution_count": 41,
   "id": "d631e0a7",
   "metadata": {},
   "outputs": [
    {
     "data": {
      "text/plain": [
       "'Celsius'"
      ]
     },
     "execution_count": 41,
     "metadata": {},
     "output_type": "execute_result"
    }
   ],
   "source": [
    "unidad_temperatura = str(input(f'¿Desde qué unidades va a convertir la temperatura? (Celsius, Fahrenheit)'))\n",
    "unidad_temperatura = unidad_temperatura.capitalize()\n",
    "unidad_temperatura"
   ]
  },
  {
   "cell_type": "code",
   "execution_count": 46,
   "id": "de8fde46",
   "metadata": {},
   "outputs": [
    {
     "name": "stdout",
     "output_type": "stream",
     "text": [
      "La temperatura no está escrita de forma correcta. Inténtelo de nuevo.\n"
     ]
    }
   ],
   "source": [
    "unidad_temperatura = input(f'¿Desde qué unidades va a convertir la temperatura? (Celsius, Fahrenheit)')\n",
    "unidad_temperatura= unidad_temperatura.capitalize()\n",
    "\n",
    "valor_temperatura = float(input(f'¿Cuál es el valor de la temperatura que quiere convertir?'))\n",
    "\n",
    "if unidad_temperatura == 'Celsius':\n",
    "    conversión_a_fahrenheit = (valor_temperatura * 9/5) + 32\n",
    "    print(f'La unidad seleccionada es: {unidad_temperatura}')\n",
    "    print(f'La temperatura en Celsius es: {valor_temperatura}')\n",
    "    print(f'La conversión a Fahrenheit es: {conversión_a_fahrenheit}')\n",
    "elif unidad_temperatura == 'Fahrenheit':\n",
    "    conversión_a_celsius = (valor_temperatura - 32) * 5/9\n",
    "    print(f'La unidad seleccionada es: {unidad_temperatura}')\n",
    "    print(f'La temperatura en Fahrenheit es: {valor_temperatura}')\n",
    "    print(f'La conversión a Celsius es: {conversión_a_celsius}')\n",
    "else:\n",
    "    print('La temperatura no está escrita de forma correcta. Inténtelo de nuevo.')"
   ]
  },
  {
   "cell_type": "markdown",
   "id": "7afd3f0f",
   "metadata": {},
   "source": [
    "\n",
    "14. Crea un programa que calcule el impuesto sobre la renta de una persona basado en su ingreso anual y su estado civil (soltero o casado). Para eso deberás:\n",
    "\n",
    "- Solicitar al usuario su ingreso anual.\n",
    "\n",
    "- Preguntar al usuario su estado civil, permitiendo dos opciones: \"soltero\" (S) o \"casado\" (C).\n",
    "\n",
    "- Calcular el impuesto sobre la renta utilizando las siguientes reglas:\n",
    "\n",
    "    - Si el estado civil es \"soltero\" (S):\n",
    "\n",
    "        - Si el ingreso anual es menor o igual a $9,875, el impuesto es el 10% del ingreso anual.\n",
    "\n",
    "        - Si el ingreso anual está entre $9,876 y $40,125, el impuesto es el 10% de los primeros $9,875 más el 12% de la cantidad que excede los $9,875.\n",
    "\n",
    "    - Si el estado civil es \"casado\" (C):\n",
    "\n",
    "        - Si el ingreso anual es menor o igual a $19,850, el impuesto es el 10% del ingreso anual.\n",
    "\n",
    "        - Si el ingreso anual está entre $19,851 y $80,250, el impuesto es el 10% de los primeros $19,850 más el 12% de la cantidad que excede los $19,850."
   ]
  },
  {
   "cell_type": "code",
   "execution_count": 36,
   "id": "428fa5be",
   "metadata": {},
   "outputs": [
    {
     "name": "stdout",
     "output_type": "stream",
     "text": [
      "El ingreso anual es: 10000.0\n",
      "Su estado civil es: S\n",
      "El impuesto es de 1002.5.\n"
     ]
    }
   ],
   "source": [
    "ingreso_anual = float(input(f'Indique su ingreso anual.'))\n",
    "estado_civil = (input('Indique su estado civil ( S = soltero, C = casado).')).capitalize()\n",
    "\n",
    "if estado_civil == 'S':\n",
    "    if ingreso_anual <= 9875:\n",
    "        impuesto = ingreso_anual * 0.1\n",
    "        print(f'El ingreso anual es: {ingreso_anual}')\n",
    "        print(f'Su estado civil es: {estado_civil}')\n",
    "        print(f'El impuesto es de {round(impuesto, 2)}.')\n",
    "    elif ingreso_anual >= 9876 and ingreso_anual <= 40125:\n",
    "        impuesto = (9875 * 0.1) + ((ingreso_anual - 9875)*0.12)\n",
    "        print(f'El ingreso anual es: {ingreso_anual}')\n",
    "        print(f'Su estado civil es: {estado_civil}')\n",
    "        print(f'El impuesto es de {round(impuesto, 2)}.')\n",
    "    else:\n",
    "        impuesto = ingreso_anual * 0.12\n",
    "        print(f'El ingreso anual es: {ingreso_anual}')\n",
    "        print(f'Su estado civil es: {estado_civil}')\n",
    "        print(f'El impuesto es de {round(impuesto, 2)}.')\n",
    "\n",
    "elif estado_civil == 'C':\n",
    "    if ingreso_anual <= 198750:\n",
    "        impuesto = ingreso_anual * 0.1\n",
    "        print(f'El ingreso anual es: {ingreso_anual}')\n",
    "        print(f'Su estado civil es: {estado_civil}')\n",
    "        print(f'El impuesto es de {round(impuesto, 2)}.')\n",
    "    elif ingreso_anual >= 19851 and ingreso_anual <= 80250:\n",
    "        impuesto = (19851 * 0.1) + ((ingreso_anual - 19851)*0.12)\n",
    "        print(f'El ingreso anual es: {ingreso_anual}')\n",
    "        print(f'Su estado civil es: {estado_civil}')\n",
    "        print(f'El impuesto es de {round(impuesto, 2)}.')\n",
    "    else:\n",
    "        impuesto = ingreso_anual * 0.12\n",
    "        print(f'El ingreso anual es: {ingreso_anual}')\n",
    "        print(f'Su estado civil es: {estado_civil}')\n",
    "        print(f'El impuesto es de {round(impuesto, 2)}.')\n",
    "\n",
    "else:\n",
    "    print(f'El ingreso anual es: {ingreso_anual}')\n",
    "    print('El estado civil es incorrecto. Pruebe de nuevo.')\n",
    "\n",
    "\n"
   ]
  },
  {
   "cell_type": "markdown",
   "id": "394b30b9",
   "metadata": {},
   "source": [
    "-----------------------------------------------------------------------------------------------------------"
   ]
  },
  {
   "cell_type": "markdown",
   "id": "1c9bb35a",
   "metadata": {},
   "source": [
    "15. Crea un programa que evalúe el nivel de contaminación del aire en función de la concentración de partículas en suspensión (PM2.5) en microgramos por metro cúbico (µg/m³). Para eso deberás:\n",
    "- Solicita al usuario que ingrese la concentración de PM2.5 en el aire en µg/m³. El usuario debe ingresar un valor numérico.\n",
    "- Evalúa el nivel de contaminación del aire según la siguiente escala:\n",
    "    - Si la concentración de PM2.5 es menor o igual a 12 µg/m³, el aire se considera \"Excelente\".\n",
    "    - Si la concentración de PM2.5 está entre 13 µg/m³ y 35 µg/m³, el aire se considera \"Bueno\".\n",
    "    - Si la concentración de PM2.5 está entre 36 µg/m³ y 55 µg/m³, el aire se considera \"Aceptable\".\n",
    "    - Si la concentración de PM2.5 está entre 56 µg/m³ y 150 µg/m³, el aire se considera \"No Saludable para Grupos Sensibles\".\n",
    "    - Si la concentración de PM2.5 es mayor a 150 µg/m³, el aire se considera \"No Saludable\".\n",
    "- Muestra un mensaje indicando el estado de la calidad del aire. Por ejemplo, si la concentración de PM2.5 es 25 µg/m³, el programa debe mostrar: \"La calidad del aire es Buena\".\n",
    "- Además, si la concentración de PM2.5 está en la categoría \n",
    "    - \"No Saludable para Grupos Sensibles\" o \"No Saludable\", el programa debe advertir al usuario sobre los posibles efectos en la salud.\n",
    "- Si la concentración ingresada por el usuario es negativa o no es un número válido, el programa debe mostrar un mensaje de error."
   ]
  },
  {
   "cell_type": "code",
   "execution_count": 41,
   "id": "32fc8263",
   "metadata": {},
   "outputs": [
    {
     "name": "stdout",
     "output_type": "stream",
     "text": [
      "ERROR\n"
     ]
    }
   ],
   "source": [
    "concentracionPM = float(input(\"Ingrese la concentración de PM2.5 (µg/m³)\"))\n",
    "calidad = 'La calidad del aire es:'\n",
    "\n",
    "\n",
    "if concentracionPM < 0:\n",
    "    calidad = 'ERROR'\n",
    "elif concentracionPM <= 12:\n",
    "    calidad = calidad + ' excelente.'\n",
    "elif concentracionPM >= 13 and concentracionPM <= 35:\n",
    "    calidad = calidad + ' bueno.'\n",
    "elif concentracionPM >= 36 and concentracionPM <=55:\n",
    "    calidad += ' aceptable.'\n",
    "elif concentracionPM >= 56 and concentracionPM <= 150:\n",
    "    calidad += ' no saludable para grupos sensibles.'\n",
    "elif concentracionPM > 150: \n",
    "    calidad += ' no saludable.'\n",
    "else: \n",
    "    calidad = 'ERROR'\n",
    "print(calidad)"
   ]
  },
  {
   "cell_type": "code",
   "execution_count": null,
   "id": "a3fdeacd",
   "metadata": {},
   "outputs": [],
   "source": []
  }
 ],
 "metadata": {
  "kernelspec": {
   "display_name": "base",
   "language": "python",
   "name": "python3"
  },
  "language_info": {
   "codemirror_mode": {
    "name": "ipython",
    "version": 3
   },
   "file_extension": ".py",
   "mimetype": "text/x-python",
   "name": "python",
   "nbconvert_exporter": "python",
   "pygments_lexer": "ipython3",
   "version": "3.12.7"
  }
 },
 "nbformat": 4,
 "nbformat_minor": 5
}

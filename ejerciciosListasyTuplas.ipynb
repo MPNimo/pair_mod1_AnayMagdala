{
 "cells": [
  {
   "cell_type": "markdown",
   "id": "1c9bdb8d",
   "metadata": {},
   "source": [
    "1. Haz una lista llamada colores donde almacenemos los primeros 6 colores que te vengan a la mente."
   ]
  },
  {
   "cell_type": "code",
   "execution_count": null,
   "id": "135a37df",
   "metadata": {},
   "outputs": [],
   "source": [
    "colores = ['azul', 'amarillo', 'verde', 'morado', 'rojo', 'negro']"
   ]
  },
  {
   "cell_type": "code",
   "execution_count": 2,
   "id": "ce49f97d",
   "metadata": {},
   "outputs": [
    {
     "data": {
      "text/plain": [
       "list"
      ]
     },
     "execution_count": 2,
     "metadata": {},
     "output_type": "execute_result"
    }
   ],
   "source": [
    "type(colores)"
   ]
  },
  {
   "cell_type": "markdown",
   "id": "234f3e9b",
   "metadata": {},
   "source": [
    "2. Haz una lista llamada buses de las líneas de autobuses que pasan por tu casa."
   ]
  },
  {
   "cell_type": "code",
   "execution_count": 3,
   "id": "022c2aff",
   "metadata": {},
   "outputs": [],
   "source": [
    "buses = [37, 6, 1]"
   ]
  },
  {
   "cell_type": "code",
   "execution_count": 4,
   "id": "299661e1",
   "metadata": {},
   "outputs": [
    {
     "data": {
      "text/plain": [
       "list"
      ]
     },
     "execution_count": 4,
     "metadata": {},
     "output_type": "execute_result"
    }
   ],
   "source": [
    "type(buses)"
   ]
  },
  {
   "cell_type": "markdown",
   "id": "4c77f0c7",
   "metadata": {},
   "source": [
    "\n",
    "3. Apunta la previsión de temperaturas máximas para todos los días de esta semana en `temperaturas`."
   ]
  },
  {
   "cell_type": "code",
   "execution_count": 39,
   "id": "875bd52d",
   "metadata": {},
   "outputs": [],
   "source": [
    "temperaturas = [23,22,20,17]"
   ]
  },
  {
   "cell_type": "code",
   "execution_count": 40,
   "id": "2363e146",
   "metadata": {},
   "outputs": [
    {
     "data": {
      "text/plain": [
       "list"
      ]
     },
     "execution_count": 40,
     "metadata": {},
     "output_type": "execute_result"
    }
   ],
   "source": [
    "type(temperaturas)"
   ]
  },
  {
   "cell_type": "markdown",
   "id": "09ee80eb",
   "metadata": {},
   "source": [
    "4. Convierte tu(s) nombre(s) a una lista `nombres` de caracteres."
   ]
  },
  {
   "cell_type": "code",
   "execution_count": 7,
   "id": "e2f47c9e",
   "metadata": {},
   "outputs": [],
   "source": [
    "nombres = ['Ana', 'Magdala']"
   ]
  },
  {
   "cell_type": "code",
   "execution_count": 8,
   "id": "b32501a3",
   "metadata": {},
   "outputs": [
    {
     "data": {
      "text/plain": [
       "list"
      ]
     },
     "execution_count": 8,
     "metadata": {},
     "output_type": "execute_result"
    }
   ],
   "source": [
    "type(nombres)"
   ]
  },
  {
   "cell_type": "code",
   "execution_count": 9,
   "id": "239cc90d",
   "metadata": {},
   "outputs": [
    {
     "data": {
      "text/plain": [
       "str"
      ]
     },
     "execution_count": 9,
     "metadata": {},
     "output_type": "execute_result"
    }
   ],
   "source": [
    "type(nombres[0])"
   ]
  },
  {
   "cell_type": "markdown",
   "id": "3dd274de",
   "metadata": {},
   "source": [
    "\n",
    "5. Convierte tu(s) apellido(s) a una lista apellidos de caracteres."
   ]
  },
  {
   "cell_type": "code",
   "execution_count": 16,
   "id": "6f2b0656",
   "metadata": {},
   "outputs": [],
   "source": [
    "apellidos = ['Pérez Nimo', 'Robles']"
   ]
  },
  {
   "cell_type": "code",
   "execution_count": 11,
   "id": "271b7a28",
   "metadata": {},
   "outputs": [
    {
     "data": {
      "text/plain": [
       "list"
      ]
     },
     "execution_count": 11,
     "metadata": {},
     "output_type": "execute_result"
    }
   ],
   "source": [
    "type(apellidos)"
   ]
  },
  {
   "cell_type": "markdown",
   "id": "0c61581e",
   "metadata": {},
   "source": [
    "6. ¿Cuántos búses pasan por tu casa?"
   ]
  },
  {
   "cell_type": "code",
   "execution_count": 12,
   "id": "58fe0a47",
   "metadata": {},
   "outputs": [
    {
     "data": {
      "text/plain": [
       "3"
      ]
     },
     "execution_count": 12,
     "metadata": {},
     "output_type": "execute_result"
    }
   ],
   "source": [
    "len(buses)"
   ]
  },
  {
   "cell_type": "markdown",
   "id": "78172e0c",
   "metadata": {},
   "source": [
    "7.¿Cuántos caracteres hay en tu apellido(s) (inluyendo los espacios)?"
   ]
  },
  {
   "cell_type": "code",
   "execution_count": 17,
   "id": "0938842d",
   "metadata": {},
   "outputs": [
    {
     "data": {
      "text/plain": [
       "16"
      ]
     },
     "execution_count": 17,
     "metadata": {},
     "output_type": "execute_result"
    }
   ],
   "source": [
    "apellidos_caract = len(apellidos[0]) +len(apellidos[1])\n",
    "apellidos_caract"
   ]
  },
  {
   "cell_type": "code",
   "execution_count": 18,
   "id": "88991a44",
   "metadata": {},
   "outputs": [],
   "source": [
    "# 8 ¿Cuáles son las temperaturas máximas (t_max) y mínimas (t_min) para esta semana?\n",
    "t_max = max(temperaturas)\n",
    "t_min = min(temperaturas)\n"
   ]
  },
  {
   "cell_type": "code",
   "execution_count": 19,
   "id": "7d20b607",
   "metadata": {},
   "outputs": [
    {
     "name": "stdout",
     "output_type": "stream",
     "text": [
      "23\n",
      "17\n"
     ]
    }
   ],
   "source": [
    "print(t_max)\n",
    "print(t_min)"
   ]
  },
  {
   "cell_type": "code",
   "execution_count": 21,
   "id": "be25dd60",
   "metadata": {},
   "outputs": [
    {
     "data": {
      "text/plain": [
       "False"
      ]
     },
     "execution_count": 21,
     "metadata": {},
     "output_type": "execute_result"
    }
   ],
   "source": [
    "# 9 Hay una 'e' en tu nombre?\n",
    "'e' in nombres"
   ]
  },
  {
   "cell_type": "code",
   "execution_count": 22,
   "id": "638ca45a",
   "metadata": {},
   "outputs": [
    {
     "data": {
      "text/plain": [
       "False"
      ]
     },
     "execution_count": 22,
     "metadata": {},
     "output_type": "execute_result"
    }
   ],
   "source": [
    "# 10 Tienes el color 'rosa' en la lista de colores?\n",
    "'rosa' in colores"
   ]
  },
  {
   "cell_type": "code",
   "execution_count": 23,
   "id": "58aa9a54",
   "metadata": {},
   "outputs": [
    {
     "data": {
      "text/plain": [
       "True"
      ]
     },
     "execution_count": 23,
     "metadata": {},
     "output_type": "execute_result"
    }
   ],
   "source": [
    "# 11 ¿Tiene una 'x' tu nombre? (Usa not in)\n",
    "'x' not in nombres"
   ]
  },
  {
   "cell_type": "code",
   "execution_count": 41,
   "id": "2b9677ef",
   "metadata": {},
   "outputs": [],
   "source": [
    "# 12 Copia el contenido de temperaturas a temperaturas2, y temperaturas3.\n",
    "temperaturas2 = temperaturas.copy()"
   ]
  },
  {
   "cell_type": "code",
   "execution_count": 42,
   "id": "d44e1224",
   "metadata": {},
   "outputs": [
    {
     "data": {
      "text/plain": [
       "[23, 22, 20, 17]"
      ]
     },
     "execution_count": 42,
     "metadata": {},
     "output_type": "execute_result"
    }
   ],
   "source": [
    "temperaturas2"
   ]
  },
  {
   "cell_type": "code",
   "execution_count": 26,
   "id": "4c5973d9",
   "metadata": {},
   "outputs": [
    {
     "data": {
      "text/plain": [
       "list"
      ]
     },
     "execution_count": 26,
     "metadata": {},
     "output_type": "execute_result"
    }
   ],
   "source": [
    "type(temperaturas2)"
   ]
  },
  {
   "cell_type": "code",
   "execution_count": 30,
   "id": "3cd9324e",
   "metadata": {},
   "outputs": [
    {
     "data": {
      "text/plain": [
       "[23, 22, 20, 17]"
      ]
     },
     "execution_count": 30,
     "metadata": {},
     "output_type": "execute_result"
    }
   ],
   "source": [
    "temperaturas"
   ]
  },
  {
   "cell_type": "code",
   "execution_count": 31,
   "id": "b351ec85",
   "metadata": {},
   "outputs": [
    {
     "data": {
      "text/plain": [
       "[23, 22, 20, 17]"
      ]
     },
     "execution_count": 31,
     "metadata": {},
     "output_type": "execute_result"
    }
   ],
   "source": [
    "temperaturas2"
   ]
  },
  {
   "cell_type": "code",
   "execution_count": 32,
   "id": "d7cb806a",
   "metadata": {},
   "outputs": [
    {
     "data": {
      "text/plain": [
       "[23, 22, 20, 17]"
      ]
     },
     "execution_count": 32,
     "metadata": {},
     "output_type": "execute_result"
    }
   ],
   "source": [
    "temperaturas3 = temperaturas.copy()\n",
    "temperaturas3"
   ]
  },
  {
   "cell_type": "code",
   "execution_count": 43,
   "id": "467b416e",
   "metadata": {},
   "outputs": [],
   "source": [
    "# temperaturas = temperaturas 2 se nos cambian ambas\n",
    "# temperaturas[0] = 50\n",
    "# temperaturas"
   ]
  },
  {
   "cell_type": "code",
   "execution_count": 35,
   "id": "d457ddcd",
   "metadata": {},
   "outputs": [
    {
     "data": {
      "text/plain": [
       "[50, 22, 20, 17]"
      ]
     },
     "execution_count": 35,
     "metadata": {},
     "output_type": "execute_result"
    }
   ],
   "source": [
    "temperaturas2"
   ]
  },
  {
   "cell_type": "code",
   "execution_count": 36,
   "id": "1eca1308",
   "metadata": {},
   "outputs": [
    {
     "data": {
      "text/plain": [
       "[23, 22, 20, 17]"
      ]
     },
     "execution_count": 36,
     "metadata": {},
     "output_type": "execute_result"
    }
   ],
   "source": [
    "temperaturas3"
   ]
  },
  {
   "cell_type": "code",
   "execution_count": null,
   "id": "858c9153",
   "metadata": {},
   "outputs": [],
   "source": [
    "# 13 Vacía el contenido de la variable temperaturas2"
   ]
  }
 ],
 "metadata": {
  "kernelspec": {
   "display_name": "base",
   "language": "python",
   "name": "python3"
  },
  "language_info": {
   "codemirror_mode": {
    "name": "ipython",
    "version": 3
   },
   "file_extension": ".py",
   "mimetype": "text/x-python",
   "name": "python",
   "nbconvert_exporter": "python",
   "pygments_lexer": "ipython3",
   "version": "3.12.3"
  }
 },
 "nbformat": 4,
 "nbformat_minor": 5
}

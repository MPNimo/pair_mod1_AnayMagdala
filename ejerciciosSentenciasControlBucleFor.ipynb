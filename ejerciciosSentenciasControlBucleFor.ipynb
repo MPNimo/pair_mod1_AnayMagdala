{
 "cells": [
  {
   "cell_type": "markdown",
   "id": "d8be4ad1",
   "metadata": {},
   "source": [
    "1. Usando la siguiente lista:\n",
    "\n",
    "```python\n",
    "temperaturas = [2,45,67,23, 45,66,12,1,34,67,99,98,67,64, 44, 100]\n",
    "```\n",
    "\n",
    "Crea tres listas nuevas, donde:\n",
    "- En la primera tengamos temperaturas entre 0 - 10, llama a la nueva lista ``bajas_temp``.\n",
    "- En la segunda tengamos temperaturas entre 11- 20, llama a la nueva lista ``medias_temp``.\n",
    "- En la tercera tengamos temperaturas por encima de 20, llama a la nueva lista ``altas_temp``."
   ]
  },
  {
   "cell_type": "code",
   "execution_count": 10,
   "id": "e210b720",
   "metadata": {},
   "outputs": [
    {
     "name": "stdout",
     "output_type": "stream",
     "text": [
      "Bajas temperaturas: [2, 1]\n",
      "Medias temperaturas: [12]\n",
      "ALtas temperaturas: [45, 67, 23, 45, 66, 34, 67, 99, 98, 67, 64, 44, 100]\n"
     ]
    }
   ],
   "source": [
    "temperaturas = [2,45,67,23, 45,66,12,1,34,67,99,98,67,64, 44, 100]\n",
    "\n",
    "bajas_temp = []\n",
    "medias_temp =[]\n",
    "altas_temp = []\n",
    "\n",
    "for i in temperaturas: \n",
    "    if i >=0 and i <=10:\n",
    "        bajas_temp.append(i)\n",
    "    elif i >= 11 and i <= 20: \n",
    "        medias_temp.append(i)\n",
    "    else:\n",
    "        altas_temp.append(i)\n",
    "\n",
    "print(f'Bajas temperaturas: {bajas_temp}')\n",
    "print(f'Medias temperaturas: {medias_temp}')\n",
    "print(f'ALtas temperaturas: {altas_temp}')"
   ]
  },
  {
   "cell_type": "code",
   "execution_count": 11,
   "id": "6224cb85",
   "metadata": {},
   "outputs": [
    {
     "name": "stdout",
     "output_type": "stream",
     "text": [
      "[2, 1]\n",
      "[12]\n",
      "[45, 67, 23, 45, 66, 34, 67, 99, 98, 67, 64, 44, 100]\n"
     ]
    }
   ],
   "source": [
    "# opción 2: on range()\n",
    "\n",
    "bajas_temp2 = []\n",
    "medias_temp2 = []\n",
    "altas_temp2 = []\n",
    "\n",
    "for i in temperaturas:\n",
    "    if i in range(11):\n",
    "        bajas_temp2.append(i)\n",
    "    elif i in range(11,21):\n",
    "        medias_temp2.append(i)\n",
    "    else:\n",
    "        altas_temp2.append(i)\n",
    "\n",
    "print(bajas_temp2)\n",
    "print(medias_temp2)\n",
    "print(altas_temp2)"
   ]
  },
  {
   "cell_type": "markdown",
   "id": "bfadf4c9",
   "metadata": {},
   "source": [
    "2. Las temperaturas están grados centígrados. Para cada una de las listas creadas en el ejercicio anterior, convertid las temperaturas a grados fahrenheit\n",
    "\n",
    "```python\n",
    "# la relacion de grados celsius y fahrenheit es:\n",
    "(0 °C × 9 / 5) + 32 = 32 °F \n",
    "```"
   ]
  },
  {
   "cell_type": "code",
   "execution_count": 12,
   "id": "ccbd7e2d",
   "metadata": {},
   "outputs": [],
   "source": [
    "bajas_temp_f = []\n",
    "medias_temp_f = []\n",
    "altas_temp_f = []\n",
    "temperaturas_c = {'Bajas temperaturas':bajas_temp, 'Medias temperaturas': medias_temp, 'Altas temperaturas': altas_temp}\n",
    "#valor = []\n",
    "\n",
    "for i, j in temperaturas_c.items():\n",
    "    if i == 'Bajas temperaturas':\n",
    "        for x in j:\n",
    "            bajas_temp_f.append((x * 9 / 5) + 32)\n",
    "    elif i == 'Medias temperaturas':\n",
    "        for z in j:\n",
    "            medias_temp_f.append((z * 9 / 5) + 32)\n",
    "    else:\n",
    "        for w in j:\n",
    "            altas_temp_f.append((w * 9 / 5) + 32)\n",
    "    "
   ]
  },
  {
   "cell_type": "code",
   "execution_count": 13,
   "id": "ff52f448",
   "metadata": {},
   "outputs": [
    {
     "data": {
      "text/plain": [
       "[35.6, 33.8]"
      ]
     },
     "execution_count": 13,
     "metadata": {},
     "output_type": "execute_result"
    }
   ],
   "source": [
    "bajas_temp_f"
   ]
  },
  {
   "cell_type": "code",
   "execution_count": 14,
   "id": "8102c941",
   "metadata": {},
   "outputs": [
    {
     "data": {
      "text/plain": [
       "[53.6]"
      ]
     },
     "execution_count": 14,
     "metadata": {},
     "output_type": "execute_result"
    }
   ],
   "source": [
    "medias_temp_f"
   ]
  },
  {
   "cell_type": "code",
   "execution_count": 15,
   "id": "b35567ec",
   "metadata": {},
   "outputs": [
    {
     "data": {
      "text/plain": [
       "[113.0,\n",
       " 152.6,\n",
       " 73.4,\n",
       " 113.0,\n",
       " 150.8,\n",
       " 93.2,\n",
       " 152.6,\n",
       " 210.2,\n",
       " 208.4,\n",
       " 152.6,\n",
       " 147.2,\n",
       " 111.2,\n",
       " 212.0]"
      ]
     },
     "execution_count": 15,
     "metadata": {},
     "output_type": "execute_result"
    }
   ],
   "source": [
    "altas_temp_f"
   ]
  },
  {
   "cell_type": "code",
   "execution_count": 16,
   "id": "0665e339",
   "metadata": {},
   "outputs": [
    {
     "data": {
      "text/plain": [
       "{'Bajas temperaturas': [2, 1],\n",
       " 'Medias temperaturas': [12],\n",
       " 'Altas temperaturas': [45, 67, 23, 45, 66, 34, 67, 99, 98, 67, 64, 44, 100]}"
      ]
     },
     "execution_count": 16,
     "metadata": {},
     "output_type": "execute_result"
    }
   ],
   "source": [
    "temperaturas_c = {'Bajas temperaturas':bajas_temp, 'Medias temperaturas': medias_temp, 'Altas temperaturas': altas_temp}\n",
    "temperaturas_c"
   ]
  },
  {
   "cell_type": "markdown",
   "id": "38735b83",
   "metadata": {},
   "source": [
    "3. Define e imprime un rango de 0 a 6 (excluido)."
   ]
  },
  {
   "cell_type": "code",
   "execution_count": null,
   "id": "a0d5bd07",
   "metadata": {},
   "outputs": [],
   "source": []
  },
  {
   "cell_type": "markdown",
   "id": "865b2b3a",
   "metadata": {},
   "source": [
    "4. Define e imprime un rango de 3 a 6 ambos incluidos. "
   ]
  },
  {
   "cell_type": "code",
   "execution_count": null,
   "id": "07cc953c",
   "metadata": {},
   "outputs": [],
   "source": []
  },
  {
   "cell_type": "markdown",
   "id": "7cdfc848",
   "metadata": {},
   "source": [
    "5. Define e imprime un rango de 5 a 9 ambos excluidos. "
   ]
  },
  {
   "cell_type": "code",
   "execution_count": null,
   "id": "f4a3e9ff",
   "metadata": {},
   "outputs": [],
   "source": []
  },
  {
   "cell_type": "markdown",
   "id": "83e7b8f5",
   "metadata": {},
   "source": []
  }
 ],
 "metadata": {
  "kernelspec": {
   "display_name": "base",
   "language": "python",
   "name": "python3"
  },
  "language_info": {
   "codemirror_mode": {
    "name": "ipython",
    "version": 3
   },
   "file_extension": ".py",
   "mimetype": "text/x-python",
   "name": "python",
   "nbconvert_exporter": "python",
   "pygments_lexer": "ipython3",
   "version": "3.12.3"
  }
 },
 "nbformat": 4,
 "nbformat_minor": 5
}

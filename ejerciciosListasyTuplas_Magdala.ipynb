{
 "cells": [
  {
   "cell_type": "markdown",
   "id": "438fb0b7",
   "metadata": {},
   "source": [
    "## EJERCICIOS LISTAS "
   ]
  },
  {
   "cell_type": "markdown",
   "id": "1c9bdb8d",
   "metadata": {},
   "source": [
    "1. Haz una lista llamada colores donde almacenemos los primeros 6 colores que te vengan a la mente."
   ]
  },
  {
   "cell_type": "code",
   "execution_count": 2,
   "id": "135a37df",
   "metadata": {},
   "outputs": [],
   "source": [
    "colores = ['azul', 'amarillo', 'verde', 'morado', 'rojo', 'negro']"
   ]
  },
  {
   "cell_type": "code",
   "execution_count": 3,
   "id": "ce49f97d",
   "metadata": {},
   "outputs": [
    {
     "data": {
      "text/plain": [
       "list"
      ]
     },
     "execution_count": 3,
     "metadata": {},
     "output_type": "execute_result"
    }
   ],
   "source": [
    "type(colores)"
   ]
  },
  {
   "cell_type": "markdown",
   "id": "234f3e9b",
   "metadata": {},
   "source": [
    "2. Haz una lista llamada buses de las líneas de autobuses que pasan por tu casa."
   ]
  },
  {
   "cell_type": "code",
   "execution_count": 4,
   "id": "022c2aff",
   "metadata": {},
   "outputs": [],
   "source": [
    "buses = [37, 6, 1]"
   ]
  },
  {
   "cell_type": "code",
   "execution_count": 5,
   "id": "299661e1",
   "metadata": {},
   "outputs": [
    {
     "data": {
      "text/plain": [
       "list"
      ]
     },
     "execution_count": 5,
     "metadata": {},
     "output_type": "execute_result"
    }
   ],
   "source": [
    "type(buses)"
   ]
  },
  {
   "cell_type": "markdown",
   "id": "4c77f0c7",
   "metadata": {},
   "source": [
    "\n",
    "3. Apunta la previsión de temperaturas máximas para todos los días de esta semana en `temperaturas`."
   ]
  },
  {
   "cell_type": "code",
   "execution_count": 6,
   "id": "875bd52d",
   "metadata": {},
   "outputs": [],
   "source": [
    "temperaturas = [23,22,20,17]"
   ]
  },
  {
   "cell_type": "code",
   "execution_count": 7,
   "id": "2363e146",
   "metadata": {},
   "outputs": [
    {
     "data": {
      "text/plain": [
       "list"
      ]
     },
     "execution_count": 7,
     "metadata": {},
     "output_type": "execute_result"
    }
   ],
   "source": [
    "type(temperaturas)"
   ]
  },
  {
   "cell_type": "markdown",
   "id": "09ee80eb",
   "metadata": {},
   "source": [
    "4. Convierte tu(s) nombre(s) a una lista `nombres` de caracteres."
   ]
  },
  {
   "cell_type": "code",
   "execution_count": 8,
   "id": "e2f47c9e",
   "metadata": {},
   "outputs": [],
   "source": [
    "nombres = ['Ana', 'Magdala']"
   ]
  },
  {
   "cell_type": "code",
   "execution_count": 9,
   "id": "b32501a3",
   "metadata": {},
   "outputs": [
    {
     "data": {
      "text/plain": [
       "list"
      ]
     },
     "execution_count": 9,
     "metadata": {},
     "output_type": "execute_result"
    }
   ],
   "source": [
    "type(nombres)"
   ]
  },
  {
   "cell_type": "code",
   "execution_count": 10,
   "id": "239cc90d",
   "metadata": {},
   "outputs": [
    {
     "data": {
      "text/plain": [
       "str"
      ]
     },
     "execution_count": 10,
     "metadata": {},
     "output_type": "execute_result"
    }
   ],
   "source": [
    "type(nombres[0])"
   ]
  },
  {
   "cell_type": "markdown",
   "id": "3dd274de",
   "metadata": {},
   "source": [
    "\n",
    "5. Convierte tu(s) apellido(s) a una lista apellidos de caracteres."
   ]
  },
  {
   "cell_type": "code",
   "execution_count": 11,
   "id": "6f2b0656",
   "metadata": {},
   "outputs": [],
   "source": [
    "apellidos = ['Pérez Nimo', 'Robles']"
   ]
  },
  {
   "cell_type": "code",
   "execution_count": 12,
   "id": "271b7a28",
   "metadata": {},
   "outputs": [
    {
     "data": {
      "text/plain": [
       "list"
      ]
     },
     "execution_count": 12,
     "metadata": {},
     "output_type": "execute_result"
    }
   ],
   "source": [
    "type(apellidos)"
   ]
  },
  {
   "cell_type": "markdown",
   "id": "0c61581e",
   "metadata": {},
   "source": [
    "6. ¿Cuántos búses pasan por tu casa?"
   ]
  },
  {
   "cell_type": "code",
   "execution_count": 13,
   "id": "58fe0a47",
   "metadata": {},
   "outputs": [
    {
     "data": {
      "text/plain": [
       "3"
      ]
     },
     "execution_count": 13,
     "metadata": {},
     "output_type": "execute_result"
    }
   ],
   "source": [
    "len(buses)"
   ]
  },
  {
   "cell_type": "markdown",
   "id": "78172e0c",
   "metadata": {},
   "source": [
    "7.¿Cuántos caracteres hay en tu apellido(s) (inluyendo los espacios)?"
   ]
  },
  {
   "cell_type": "code",
   "execution_count": 14,
   "id": "0938842d",
   "metadata": {},
   "outputs": [
    {
     "data": {
      "text/plain": [
       "16"
      ]
     },
     "execution_count": 14,
     "metadata": {},
     "output_type": "execute_result"
    }
   ],
   "source": [
    "apellidos_caract = len(apellidos[0]) +len(apellidos[1])\n",
    "apellidos_caract"
   ]
  },
  {
   "cell_type": "code",
   "execution_count": 15,
   "id": "88991a44",
   "metadata": {},
   "outputs": [],
   "source": [
    "# 8 ¿Cuáles son las temperaturas máximas (t_max) y mínimas (t_min) para esta semana?\n",
    "t_max = max(temperaturas)\n",
    "t_min = min(temperaturas)\n"
   ]
  },
  {
   "cell_type": "code",
   "execution_count": 16,
   "id": "7d20b607",
   "metadata": {},
   "outputs": [
    {
     "name": "stdout",
     "output_type": "stream",
     "text": [
      "23\n",
      "17\n"
     ]
    }
   ],
   "source": [
    "print(t_max)\n",
    "print(t_min)"
   ]
  },
  {
   "cell_type": "code",
   "execution_count": 17,
   "id": "be25dd60",
   "metadata": {},
   "outputs": [
    {
     "data": {
      "text/plain": [
       "False"
      ]
     },
     "execution_count": 17,
     "metadata": {},
     "output_type": "execute_result"
    }
   ],
   "source": [
    "# 9 Hay una 'e' en tu nombre?\n",
    "'e' in nombres"
   ]
  },
  {
   "cell_type": "code",
   "execution_count": 18,
   "id": "638ca45a",
   "metadata": {},
   "outputs": [
    {
     "data": {
      "text/plain": [
       "False"
      ]
     },
     "execution_count": 18,
     "metadata": {},
     "output_type": "execute_result"
    }
   ],
   "source": [
    "# 10 Tienes el color 'rosa' en la lista de colores?\n",
    "'rosa' in colores"
   ]
  },
  {
   "cell_type": "code",
   "execution_count": 19,
   "id": "58aa9a54",
   "metadata": {},
   "outputs": [
    {
     "data": {
      "text/plain": [
       "True"
      ]
     },
     "execution_count": 19,
     "metadata": {},
     "output_type": "execute_result"
    }
   ],
   "source": [
    "# 11 ¿Tiene una 'x' tu nombre? (Usa not in)\n",
    "'x' not in nombres"
   ]
  },
  {
   "cell_type": "code",
   "execution_count": 20,
   "id": "2b9677ef",
   "metadata": {},
   "outputs": [],
   "source": [
    "# 12 Copia el contenido de temperaturas a temperaturas2, y temperaturas3.\n",
    "temperaturas2 = temperaturas.copy()"
   ]
  },
  {
   "cell_type": "code",
   "execution_count": 21,
   "id": "d44e1224",
   "metadata": {},
   "outputs": [
    {
     "data": {
      "text/plain": [
       "[23, 22, 20, 17]"
      ]
     },
     "execution_count": 21,
     "metadata": {},
     "output_type": "execute_result"
    }
   ],
   "source": [
    "temperaturas2"
   ]
  },
  {
   "cell_type": "code",
   "execution_count": 22,
   "id": "4c5973d9",
   "metadata": {},
   "outputs": [
    {
     "data": {
      "text/plain": [
       "list"
      ]
     },
     "execution_count": 22,
     "metadata": {},
     "output_type": "execute_result"
    }
   ],
   "source": [
    "type(temperaturas2)"
   ]
  },
  {
   "cell_type": "code",
   "execution_count": 23,
   "id": "3cd9324e",
   "metadata": {},
   "outputs": [
    {
     "data": {
      "text/plain": [
       "[23, 22, 20, 17]"
      ]
     },
     "execution_count": 23,
     "metadata": {},
     "output_type": "execute_result"
    }
   ],
   "source": [
    "temperaturas"
   ]
  },
  {
   "cell_type": "code",
   "execution_count": 24,
   "id": "b351ec85",
   "metadata": {},
   "outputs": [
    {
     "data": {
      "text/plain": [
       "[23, 22, 20, 17]"
      ]
     },
     "execution_count": 24,
     "metadata": {},
     "output_type": "execute_result"
    }
   ],
   "source": [
    "temperaturas2"
   ]
  },
  {
   "cell_type": "code",
   "execution_count": 25,
   "id": "d7cb806a",
   "metadata": {},
   "outputs": [
    {
     "data": {
      "text/plain": [
       "[23, 22, 20, 17]"
      ]
     },
     "execution_count": 25,
     "metadata": {},
     "output_type": "execute_result"
    }
   ],
   "source": [
    "temperaturas3 = temperaturas.copy()\n",
    "temperaturas3"
   ]
  },
  {
   "cell_type": "code",
   "execution_count": 26,
   "id": "467b416e",
   "metadata": {},
   "outputs": [],
   "source": [
    "# temperaturas = temperaturas 2 se nos cambian ambas\n",
    "# temperaturas[0] = 50\n",
    "# temperaturas"
   ]
  },
  {
   "cell_type": "code",
   "execution_count": 27,
   "id": "d457ddcd",
   "metadata": {},
   "outputs": [
    {
     "data": {
      "text/plain": [
       "[23, 22, 20, 17]"
      ]
     },
     "execution_count": 27,
     "metadata": {},
     "output_type": "execute_result"
    }
   ],
   "source": [
    "temperaturas2"
   ]
  },
  {
   "cell_type": "code",
   "execution_count": 28,
   "id": "1eca1308",
   "metadata": {},
   "outputs": [
    {
     "data": {
      "text/plain": [
       "[23, 22, 20, 17]"
      ]
     },
     "execution_count": 28,
     "metadata": {},
     "output_type": "execute_result"
    }
   ],
   "source": [
    "temperaturas3"
   ]
  },
  {
   "cell_type": "markdown",
   "id": "8c9daa68",
   "metadata": {},
   "source": [
    "-------------------------------------------------------------------------------------"
   ]
  },
  {
   "cell_type": "code",
   "execution_count": 29,
   "id": "858c9153",
   "metadata": {},
   "outputs": [],
   "source": [
    "# 13 Vacía el contenido de la variable temperaturas2\n",
    "\n",
    "temperaturas2.clear()"
   ]
  },
  {
   "cell_type": "code",
   "execution_count": 30,
   "id": "7df7dc51",
   "metadata": {},
   "outputs": [
    {
     "name": "stdout",
     "output_type": "stream",
     "text": [
      "[23, 22, 20, 17]\n",
      "[]\n"
     ]
    }
   ],
   "source": [
    "# 14. Imprime el contenido de temperaturas y temperaturas2.\n",
    "\n",
    "print(temperaturas)\n",
    "print(temperaturas2)"
   ]
  },
  {
   "cell_type": "code",
   "execution_count": 31,
   "id": "00cbac36",
   "metadata": {},
   "outputs": [
    {
     "data": {
      "text/plain": [
       "['Ana', 'Magdala']"
      ]
     },
     "execution_count": 31,
     "metadata": {},
     "output_type": "execute_result"
    }
   ],
   "source": [
    "# 15. Copia el contenido de nombres a nombres2.\n",
    "\n",
    "nombres2 = nombres.copy()\n",
    "nombres2"
   ]
  },
  {
   "cell_type": "code",
   "execution_count": 32,
   "id": "8bf7b9f9",
   "metadata": {},
   "outputs": [
    {
     "data": {
      "text/plain": [
       "['Pérez Nimo', 'Robles']"
      ]
     },
     "execution_count": 32,
     "metadata": {},
     "output_type": "execute_result"
    }
   ],
   "source": [
    "# 16. Copia el contenido de apellidos a apellidos2.\n",
    "\n",
    "apellidos2 = apellidos.copy()\n",
    "apellidos2"
   ]
  },
  {
   "cell_type": "code",
   "execution_count": 53,
   "id": "f6f52555",
   "metadata": {},
   "outputs": [
    {
     "data": {
      "text/plain": [
       "[23, 22, 20, 17]"
      ]
     },
     "execution_count": 53,
     "metadata": {},
     "output_type": "execute_result"
    }
   ],
   "source": [
    "# 17. Ordena la variable temperaturas3 de mayor a menos\n",
    "\n",
    "temperaturas3.sort(reverse=True)\n",
    "temperaturas3"
   ]
  },
  {
   "cell_type": "code",
   "execution_count": 61,
   "id": "cc0b1a94",
   "metadata": {},
   "outputs": [
    {
     "data": {
      "text/plain": [
       "[23, 22, 20, 17]"
      ]
     },
     "execution_count": 61,
     "metadata": {},
     "output_type": "execute_result"
    }
   ],
   "source": [
    "temperaturas3.sort()\n",
    "temperaturas3.reverse()\n",
    "temperaturas3"
   ]
  },
  {
   "cell_type": "code",
   "execution_count": 72,
   "id": "76089433",
   "metadata": {},
   "outputs": [
    {
     "name": "stdout",
     "output_type": "stream",
     "text": [
      "['M', 'a', 'a', 'a', 'd', 'g', 'l']\n",
      "[' ', 'N', 'P', 'e', 'i', 'm', 'o', 'r', 'z', 'é']\n"
     ]
    }
   ],
   "source": [
    "# 18. Ordena los caracteres de tu nombre y tu apellido en las listas nombres2 y apellidos2. Imprime el resultado y investiga: ¿qué orden ha cogido?\n",
    "# ¿Cómo trata las mayúsculas?\n",
    "\n",
    "mi_nombre = list(nombres2[1])\n",
    "mi_nombre.sort()\n",
    "print(mi_nombre)\n",
    "\n",
    "mi_apellido = list(apellidos2[0])\n",
    "mi_apellido.sort()\n",
    "print(mi_apellido)"
   ]
  },
  {
   "cell_type": "code",
   "execution_count": 75,
   "id": "dbbf3a80",
   "metadata": {},
   "outputs": [
    {
     "name": "stdout",
     "output_type": "stream",
     "text": [
      "El número de \"a\" de mi nombre es: 3\n",
      "El número de \"o\" de mi nombre es: 0\n"
     ]
    }
   ],
   "source": [
    "# 19. ¿Cuántas 'a' tiene tu nombre? ¿Y cuántas 'o'?\n",
    "\n",
    "print(f'El número de \"a\" de mi nombre es: {mi_nombre.count('a')}')\n",
    "print(f'El número de \"o\" de mi nombre es: {mi_nombre.count('o')}')"
   ]
  },
  {
   "cell_type": "code",
   "execution_count": 78,
   "id": "e6c971a7",
   "metadata": {},
   "outputs": [
    {
     "name": "stdout",
     "output_type": "stream",
     "text": [
      "El número de \"a\" de mi nombre es: 0\n",
      "El número de \"o\" de mi nombre es: 0\n"
     ]
    }
   ],
   "source": [
    "# 20. Verifica si los resultados de ejercicio 19 son iguales para la lista nombres2.\n",
    "\n",
    "print(f'El número de \"a\" de mi nombre es: {nombres2.count('a')}')\n",
    "print(f'El número de \"o\" de mi nombre es: {nombres2.count('o')}')"
   ]
  },
  {
   "cell_type": "code",
   "execution_count": 79,
   "id": "82b761c4",
   "metadata": {},
   "outputs": [
    {
     "name": "stdout",
     "output_type": "stream",
     "text": [
      "Esta semana llega la temperatura a 23, 1 veces\n",
      "Esta semana llega la temperatura a 17, 1 veces\n"
     ]
    }
   ],
   "source": [
    "# 21. ¿Cuántas veces esta semana llega la temperatura a la t_max? ¿Y cuántas a la t_min?\n",
    "\n",
    "print(f'Esta semana llega la temperatura a {t_max}, {temperaturas.count(t_max)} veces')\n",
    "print(f'Esta semana llega la temperatura a {t_min}, {temperaturas.count(t_min)} veces')"
   ]
  },
  {
   "cell_type": "code",
   "execution_count": 80,
   "id": "255e1d68",
   "metadata": {},
   "outputs": [],
   "source": [
    "# 22. La lista dias_en contiene 'monday', 'tuesday', 'wednesday', 'thursday', 'friday', 'saturday', y 'sunday'.\n",
    "\n",
    "dias_en = ['monday', 'tuesday', 'wednesday', 'thursday', 'friday', 'saturday', 'sunday']"
   ]
  },
  {
   "cell_type": "code",
   "execution_count": 104,
   "id": "a80e3a26",
   "metadata": {},
   "outputs": [
    {
     "name": "stdout",
     "output_type": "stream",
     "text": [
      "[10, 10, 13, 14, 12, 15, 12, 11, 13, 17, 18, 15, 15, 17, 17, 13, 13, 11, 12, 10, 12, 14, 12, 12, 11, 12, 16, 16, 14, 17, 18]\n"
     ]
    }
   ],
   "source": [
    "# 23. Define temperaturas_diciembre: \n",
    "\n",
    "\n",
    "temperaturas_diciembre = [10,10, 13, 14, 12, 15, \n",
    "                        12, 11, 13, 17, 18, 15, \n",
    "                        15, 17, 17, 13, 13, 11,\n",
    "                        12, 10, 12, 14, 12, 12,\n",
    "                        11, 12, 16, 16, 14, 17, 18]\n",
    "\n",
    "print(temperaturas_diciembre)"
   ]
  },
  {
   "cell_type": "code",
   "execution_count": 85,
   "id": "aaeab3dd",
   "metadata": {},
   "outputs": [
    {
     "data": {
      "text/plain": [
       "'saturday'"
      ]
     },
     "execution_count": 85,
     "metadata": {},
     "output_type": "execute_result"
    }
   ],
   "source": [
    "# 24. ¿Cuál es el penúltimo día de la semana?\n",
    "\n",
    "dias_en[-2]"
   ]
  },
  {
   "cell_type": "code",
   "execution_count": 86,
   "id": "f16ddff8",
   "metadata": {},
   "outputs": [
    {
     "data": {
      "text/plain": [
       "18"
      ]
     },
     "execution_count": 86,
     "metadata": {},
     "output_type": "execute_result"
    }
   ],
   "source": [
    "# 25. ¿Cuál es el último elemento de la lista de temperaturas de diciembre?\n",
    "\n",
    "temperaturas_diciembre[-1]"
   ]
  },
  {
   "cell_type": "code",
   "execution_count": 94,
   "id": "ac12db8c",
   "metadata": {},
   "outputs": [
    {
     "name": "stdout",
     "output_type": "stream",
     "text": [
      "¿Está \"friday\" en la lista?: True.\n",
      "Está en la posición: 4\n"
     ]
    }
   ],
   "source": [
    "# 26. ¿Está 'friday' en la lista de días en inglés? Si está, ¿dónde?\n",
    "\n",
    "print(f'¿Está \"friday\" en la lista?: {bool(dias_en.count('friday'))}.')\n",
    "print(f'Está en la posición: {dias_en.index('friday')}')"
   ]
  },
  {
   "cell_type": "code",
   "execution_count": 95,
   "id": "703809df",
   "metadata": {},
   "outputs": [
    {
     "data": {
      "text/plain": [
       "18"
      ]
     },
     "execution_count": 95,
     "metadata": {},
     "output_type": "execute_result"
    }
   ],
   "source": [
    "# 27. ¿Cuál era la temperatura máxima en diciembre?\n",
    "max(temperaturas_diciembre)"
   ]
  },
  {
   "cell_type": "code",
   "execution_count": 98,
   "id": "a71c891d",
   "metadata": {},
   "outputs": [
    {
     "name": "stdout",
     "output_type": "stream",
     "text": [
      "No se ha encontrado \"miércoles\" en la lista \"dias_en\".\n"
     ]
    }
   ],
   "source": [
    "# 28. Encuentra el índice de 'miércoles' en dias_es.\n",
    "\n",
    "dia = 'miércoles'\n",
    "\n",
    "if bool(dias_en.count(dia)): \n",
    "    print(f'La posición de {dia} es {dias_en.index(dia)}.')\n",
    "else:\n",
    "    print(f'No se ha encontrado \"{dia}\" en la lista \"dias_en\".')"
   ]
  },
  {
   "cell_type": "code",
   "execution_count": 112,
   "id": "b420393b",
   "metadata": {},
   "outputs": [],
   "source": [
    "# 29. (Bonus) Imprime esta frase en pantalla: 'La temperatura máxima esta semana será 14 ºC, que ocurrirá en 1 días(s). \n",
    "# El día más frío tendrá una temperatura máxima de 10 ºC, que ocurrirá en 2 día(s).'\n",
    "\n",
    "def print_temp_max_min(num_semana, mes, temp_semana):\n",
    "    print(f'Semana {num_semana}:')\n",
    "    print(f'Temperatura de la semana: {temp_semana}')\n",
    "    print(f'La temperatura máxima la {num_semana} semana del mes de {mes} será {max(temp_semana)}, que ocurrirá en {temp_semana.count(max(temp_semana))} día(s).')\n",
    "    print(f'El día más frío tendrá una temperatura máxima de {min(temp_semana)}, que ocurrirá en {temp_semana.count(min(temp_semana))} día(s).\\n')\n",
    "\n",
    "def temp_semanas_mes(temperaturas_mes, mes):\n",
    "    if len(temperaturas_mes) == 28: \n",
    "        semana1 = temperaturas_mes[0:7]\n",
    "        print_temp_max_min('1', mes, semana1)\n",
    "\n",
    "        semana2 = temperaturas_mes[7:14]\n",
    "        print_temp_max_min('2', mes, semana2)\n",
    "\n",
    "        semana3 = temperaturas_mes[14:21]\n",
    "        print_temp_max_min('3', mes, semana3)\n",
    "\n",
    "        semana4 = temperaturas_mes[21:28]\n",
    "        print_temp_max_min('4', mes, semana4)\n",
    "\n",
    "    else:\n",
    "        semana1 = temperaturas_mes[0:7]\n",
    "        print_temp_max_min('1', mes, semana1)\n",
    "\n",
    "        semana2 = temperaturas_mes[7:14]\n",
    "        print_temp_max_min('2', mes, semana2)\n",
    "\n",
    "        semana3 = temperaturas_mes[14:21]\n",
    "        print_temp_max_min('3', mes, semana3)\n",
    "\n",
    "        semana4 = temperaturas_mes[21:28]\n",
    "        print_temp_max_min('4', mes, semana4)\n",
    "\n",
    "        semana5 = temperaturas_mes[28:(len(temperaturas_mes) + 1)]\n",
    "        print_temp_max_min('5', mes, semana5)\n"
   ]
  },
  {
   "cell_type": "code",
   "execution_count": 113,
   "id": "b18c8967",
   "metadata": {},
   "outputs": [
    {
     "name": "stdout",
     "output_type": "stream",
     "text": [
      "Semana 1:\n",
      "Temperatura de la semana: [10, 10, 13, 14, 12, 15, 12]\n",
      "La temperatura máxima la 1 semana del mes de diciembre será 15, que ocurrirá en 1 día(s).\n",
      "El día más frío tendrá una temperatura máxima de 10, que ocurrirá en 2 día(s).\n",
      "\n",
      "Semana 2:\n",
      "Temperatura de la semana: [11, 13, 17, 18, 15, 15, 17]\n",
      "La temperatura máxima la 2 semana del mes de diciembre será 18, que ocurrirá en 1 día(s).\n",
      "El día más frío tendrá una temperatura máxima de 11, que ocurrirá en 1 día(s).\n",
      "\n",
      "Semana 3:\n",
      "Temperatura de la semana: [17, 13, 13, 11, 12, 10, 12]\n",
      "La temperatura máxima la 3 semana del mes de diciembre será 17, que ocurrirá en 1 día(s).\n",
      "El día más frío tendrá una temperatura máxima de 10, que ocurrirá en 1 día(s).\n",
      "\n",
      "Semana 4:\n",
      "Temperatura de la semana: [14, 12, 12, 11, 12, 16, 16]\n",
      "La temperatura máxima la 4 semana del mes de diciembre será 16, que ocurrirá en 2 día(s).\n",
      "El día más frío tendrá una temperatura máxima de 11, que ocurrirá en 1 día(s).\n",
      "\n",
      "Semana 5:\n",
      "Temperatura de la semana: [14, 17, 18]\n",
      "La temperatura máxima la 5 semana del mes de diciembre será 18, que ocurrirá en 1 día(s).\n",
      "El día más frío tendrá una temperatura máxima de 14, que ocurrirá en 1 día(s).\n",
      "\n"
     ]
    }
   ],
   "source": [
    "temp_semanas_mes(temperaturas_diciembre, 'diciembre')"
   ]
  },
  {
   "cell_type": "code",
   "execution_count": null,
   "id": "3eb52739",
   "metadata": {},
   "outputs": [],
   "source": []
  }
 ],
 "metadata": {
  "kernelspec": {
   "display_name": "base",
   "language": "python",
   "name": "python3"
  },
  "language_info": {
   "codemirror_mode": {
    "name": "ipython",
    "version": 3
   },
   "file_extension": ".py",
   "mimetype": "text/x-python",
   "name": "python",
   "nbconvert_exporter": "python",
   "pygments_lexer": "ipython3",
   "version": "3.12.7"
  }
 },
 "nbformat": 4,
 "nbformat_minor": 5
}

{
 "cells": [
  {
   "cell_type": "markdown",
   "id": "efd27400",
   "metadata": {},
   "source": [
    "## EJERCICIOS DE LA PARTE DE LECCIONES "
   ]
  },
  {
   "cell_type": "markdown",
   "id": "03db20a4",
   "metadata": {},
   "source": [
    "Crea una clase llamada ``Vehiculo`` que representa un vehículo genérico. Esta clase tiene la capacidad de realizar acciones relacionadas con el vehículo, como encenderlo, apagarlo, acelerar, frenar y detenerlo gradualmente. Cada método en la clase tiene una descripción específica de su función. A continuación, se detallan los aspectos clave de esta clase:\n",
    "\n",
    "- Atributos: \n",
    "\n",
    "    - ``marca``: Una cadena que representa la marca del vehículo.\n",
    "    - ``modelo``: Una cadena que representa el modelo del vehículo.\n",
    "    - ``año``: Un número entero que representa el año de fabricación del vehículo.\n",
    "    - ``velocidad_actual``: Un número entero que representa la velocidad actual del vehículo en km/h.\n",
    "    - ``encendido``: Un valor booleano que indica si el vehículo está encendido (``True``) o apagado (``False``).\n",
    "\n",
    "\n",
    "- Métodos:\n",
    "\n",
    "\n",
    "    - ``__init__(self, marca, modelo, año)``: El constructor de la clase que inicializa los atributos del vehículo, incluyendo la marca, el modelo, el año, la velocidad actual (inicialmente 0) y el estado del encendido (inicialmente apagado).\n",
    "    - ``informacion(self)``: Un método que devuelve una cadena de texto con la información básica del vehículo, incluyendo la marca, el modelo y el año.\n",
    "    - ``encender(self)``: Un método que enciende el vehículo si está apagado y devuelve un mensaje de confirmación. Si el vehículo ya está encendido, devuelve un mensaje indicando que ya está en funcionamiento.\n",
    "    - ``apagar(self)``: Un método que apaga el vehículo si está encendido, establece la velocidad actual en 0 y devuelve un mensaje de confirmación. Si el vehículo ya está apagado, devuelve un mensaje indicando que ya está apagado.\n",
    "    - ``acelerar(self, velocidad)``: Un método que aumenta la velocidad actual del vehículo según la cantidad de velocidad proporcionada como argumento. Si el vehículo está encendido, aumenta la velocidad y devuelve un mensaje con la nueva velocidad actual. Si el vehículo está apagado, devuelve un mensaje indicando que no se puede acelerar.\n",
    "    - ``frenar(self, velocidad)``: Un método que reduce la velocidad actual del vehículo según la cantidad de velocidad proporcionada como argumento. Si el vehículo está encendido, reduce la velocidad y devuelve un mensaje con la nueva velocidad actual. Si el vehículo está apagado, devuelve un mensaje indicando que no se puede frenar.\n",
    "    - ``detener(self)``: Un método que detiene gradualmente el vehículo reduciendo la velocidad en incrementos de 5 km/h hasta que alcance una velocidad de 0 km/h. Si el vehículo está encendido, detiene el vehículo y devuelve un mensaje de confirmación. Si el vehículo está apagado, devuelve un mensaje indicando que no se puede detener."
   ]
  },
  {
   "cell_type": "code",
   "execution_count": 15,
   "id": "33b4fbe1",
   "metadata": {},
   "outputs": [],
   "source": [
    "class Vehiculo: \n",
    "    def __init__(self, marca, modelo, año):\n",
    "        self.marca = marca\n",
    "        self.modelo = modelo\n",
    "        self.año = año\n",
    "        self.velocidad_actual = 0\n",
    "        self.encendido = False # True = Encendido // False = Apagado\n",
    "\n",
    "    def informacion(self): \n",
    "        print('Información básica del vehículo')\n",
    "        print(f'- La marca del vehículo es: {self.marca}.')\n",
    "        print(f'- El modelo del vehículo es: {self.modelo}.')\n",
    "        print(f'- El año de fabricación del vehículo es: {self.año} ')\n",
    "\n",
    "    def encender(self):\n",
    "        if not self.encendido:  \n",
    "            self.encendido = True\n",
    "            print('Se ha encendido correctamente el vehículo.')\n",
    "        else: \n",
    "            print('El vehículo ya está en funcionamiento.')\n",
    "\n",
    "    def apagar(self): \n",
    "        if self.encendido: # if self.encendido --> if self.encendido == True (es lo mismo)\n",
    "            self.encendido = False\n",
    "            self.velocidad_actual =0\n",
    "            print('El vehículo está apagado.')\n",
    "        else:\n",
    "            print('El vehículo ya está apagado.')\n",
    "    \n",
    "    def acelerar(self, velocidad): \n",
    "        if self.encendido:\n",
    "            self.velocidad_actual += velocidad\n",
    "            print(f'La velocidad actual es de {self.velocidad_actual}.')\n",
    "        else:\n",
    "            print('No se puede acelerar, el vehículo está apagado.')\n",
    "\n",
    "    def frenar(self, velocidad):\n",
    "        if self.encendido:\n",
    "            if velocidad > self.velocidad_actual:\n",
    "                print(f'No se ha podido reducir la velocidad en {velocidad} por ser mayor que la velocidad actual: {self.velocidad_actual}.')\n",
    "                self.velocidad_actual = 0\n",
    "                print('La velocidad se ha reducido hasta 0.')\n",
    "            else:\n",
    "                self.velocidad_actual -= velocidad\n",
    "                print(f'La velocidad actual es de {self.velocidad_actual}.')\n",
    "        else:\n",
    "            print('No se puede frenar, el vehículo está apagado.')\n",
    "\n",
    "    def detener(self): \n",
    "        if self.encendido: \n",
    "            while self.velocidad_actual !=0:\n",
    "                if self.velocidad_actual < 5:\n",
    "                    self.velocidad_actual = 0\n",
    "                else:\n",
    "                    self.velocidad_actual -= 5\n",
    "                print(f'La velocidad actual es: {self.velocidad_actual}')\n",
    "            print('El vehículo se ha detenido.')\n",
    "        else: \n",
    "            print('El vehiculo está apagado, no se puede detener.')\n",
    "\n"
   ]
  },
  {
   "cell_type": "code",
   "execution_count": 16,
   "id": "bbc7b07b",
   "metadata": {},
   "outputs": [],
   "source": [
    "coche_ale = Vehiculo('Toyota', 'RAV4', 2024)"
   ]
  },
  {
   "cell_type": "code",
   "execution_count": 17,
   "id": "fe3d2e3c",
   "metadata": {},
   "outputs": [
    {
     "name": "stdout",
     "output_type": "stream",
     "text": [
      "Información básica del vehículo\n",
      "- La marca del vehículo es: Toyota.\n",
      "- El modelo del vehículo es: RAV4.\n",
      "- El año de fabricación del vehículo es: 2024 \n"
     ]
    }
   ],
   "source": [
    "coche_ale.informacion()"
   ]
  },
  {
   "cell_type": "code",
   "execution_count": 19,
   "id": "42e2fa02",
   "metadata": {},
   "outputs": [
    {
     "name": "stdout",
     "output_type": "stream",
     "text": [
      "El vehículo ya está apagado.\n",
      "No se puede acelerar, el vehículo está apagado.\n",
      "No se puede frenar, el vehículo está apagado.\n",
      "El vehiculo está apagado, no se puede detener.\n"
     ]
    }
   ],
   "source": [
    "coche_ale.apagar()\n",
    "coche_ale.acelerar(10)\n",
    "coche_ale.frenar(50)\n",
    "coche_ale.detener()"
   ]
  },
  {
   "cell_type": "code",
   "execution_count": 28,
   "id": "75918a6a",
   "metadata": {},
   "outputs": [
    {
     "name": "stdout",
     "output_type": "stream",
     "text": [
      "Se ha encendido correctamente el vehículo.\n"
     ]
    }
   ],
   "source": [
    "coche_ale.encender()"
   ]
  },
  {
   "cell_type": "code",
   "execution_count": 29,
   "id": "98b1b994",
   "metadata": {},
   "outputs": [
    {
     "name": "stdout",
     "output_type": "stream",
     "text": [
      "El vehículo se ha detenido.\n"
     ]
    }
   ],
   "source": [
    "coche_ale.detener()"
   ]
  },
  {
   "cell_type": "code",
   "execution_count": 30,
   "id": "574e96e5",
   "metadata": {},
   "outputs": [
    {
     "name": "stdout",
     "output_type": "stream",
     "text": [
      "No se ha podido reducir la velocidad en 20 por ser mayor que la velocidad actual: 0.\n",
      "La velocidad se ha reducido hasta 0.\n"
     ]
    }
   ],
   "source": [
    "coche_ale.frenar(20)"
   ]
  },
  {
   "cell_type": "code",
   "execution_count": 31,
   "id": "b5b1cec6",
   "metadata": {},
   "outputs": [
    {
     "name": "stdout",
     "output_type": "stream",
     "text": [
      "La velocidad actual es de 100.\n"
     ]
    }
   ],
   "source": [
    "coche_ale.acelerar(100)"
   ]
  },
  {
   "cell_type": "code",
   "execution_count": 32,
   "id": "d5c0d94a",
   "metadata": {},
   "outputs": [
    {
     "name": "stdout",
     "output_type": "stream",
     "text": [
      "La velocidad actual es de 90.\n"
     ]
    }
   ],
   "source": [
    "coche_ale.frenar(10)"
   ]
  },
  {
   "cell_type": "code",
   "execution_count": 33,
   "id": "67320e83",
   "metadata": {},
   "outputs": [
    {
     "name": "stdout",
     "output_type": "stream",
     "text": [
      "La velocidad actual es de 106.\n"
     ]
    }
   ],
   "source": [
    "coche_ale.acelerar(16)"
   ]
  },
  {
   "cell_type": "code",
   "execution_count": 34,
   "id": "5db3b761",
   "metadata": {},
   "outputs": [
    {
     "name": "stdout",
     "output_type": "stream",
     "text": [
      "La velocidad actual es: 101\n",
      "La velocidad actual es: 96\n",
      "La velocidad actual es: 91\n",
      "La velocidad actual es: 86\n",
      "La velocidad actual es: 81\n",
      "La velocidad actual es: 76\n",
      "La velocidad actual es: 71\n",
      "La velocidad actual es: 66\n",
      "La velocidad actual es: 61\n",
      "La velocidad actual es: 56\n",
      "La velocidad actual es: 51\n",
      "La velocidad actual es: 46\n",
      "La velocidad actual es: 41\n",
      "La velocidad actual es: 36\n",
      "La velocidad actual es: 31\n",
      "La velocidad actual es: 26\n",
      "La velocidad actual es: 21\n",
      "La velocidad actual es: 16\n",
      "La velocidad actual es: 11\n",
      "La velocidad actual es: 6\n",
      "La velocidad actual es: 1\n",
      "La velocidad actual es: 0\n",
      "El vehículo se ha detenido.\n"
     ]
    }
   ],
   "source": [
    "coche_ale.detener()"
   ]
  },
  {
   "cell_type": "code",
   "execution_count": 35,
   "id": "5ca0acc9",
   "metadata": {},
   "outputs": [
    {
     "name": "stdout",
     "output_type": "stream",
     "text": [
      "El vehículo ya está en funcionamiento.\n"
     ]
    }
   ],
   "source": [
    "coche_ale.encender()"
   ]
  },
  {
   "cell_type": "code",
   "execution_count": 36,
   "id": "ad6c51d2",
   "metadata": {},
   "outputs": [
    {
     "name": "stdout",
     "output_type": "stream",
     "text": [
      "El vehículo está apagado.\n"
     ]
    }
   ],
   "source": [
    "coche_ale.apagar()"
   ]
  },
  {
   "cell_type": "markdown",
   "id": "224fd7aa",
   "metadata": {},
   "source": [
    "Crea la subclase ``Coche`` que hereda de la clase base ``Vehiculo`` y representa un coche específico. Además de los atributos y métodos heredados, la clase ``Coche`` tiene un atributo adicional:\n",
    "- Atributos:\n",
    "    - ``combustible``: Una cadena que representa el tipo de combustible que utiliza el coche.\n",
    "- Métodos:\n",
    "    - ``__init__(self, marca, modelo, año, combustible)``: Constructor que inicializa los atributos de la clase base y el atributo específico del coche.\n",
    "    - ``informacion(self)``: Devuelve una cadena con la información del coche, incluyendo la marca, el modelo, el año y el tipo de combustible.\n"
   ]
  }
 ],
 "metadata": {
  "kernelspec": {
   "display_name": "base",
   "language": "python",
   "name": "python3"
  },
  "language_info": {
   "codemirror_mode": {
    "name": "ipython",
    "version": 3
   },
   "file_extension": ".py",
   "mimetype": "text/x-python",
   "name": "python",
   "nbconvert_exporter": "python",
   "pygments_lexer": "ipython3",
   "version": "3.12.7"
  }
 },
 "nbformat": 4,
 "nbformat_minor": 5
}

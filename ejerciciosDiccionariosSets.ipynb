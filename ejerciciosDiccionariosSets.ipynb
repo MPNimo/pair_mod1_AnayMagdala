{
 "cells": [
  {
   "cell_type": "markdown",
   "id": "2ee4c68f",
   "metadata": {},
   "source": [
    "# EJERCICIOS DICCIONARIOS"
   ]
  },
  {
   "cell_type": "markdown",
   "id": "17354569",
   "metadata": {},
   "source": [
    "- Definir diccionarios\n",
    "\n",
    "1. Crea el diccionario festivos con las fechas como claves y los nombres como valores: 01/01: Año Nuevo, 06/01: Epifanía del Señor, 15/04: Viernes Santo, 15/08: Asunción de la Virgen, 12/10: Fiesta Nacional de España, 01/11: Todos los Santos, 06/12: Día de la Constitución Española, y 08/12: Inmaculada Concepción.\n",
    "2. Crea el diccionario monarcas con los países como claves y los nombres como valores: Bélgica: Philippe, Dinamarca: Margrethe II, Holanda: Beatrix, Noruega: Harald V, España: Felipe VI, Reino Unido: Carlos III."
   ]
  },
  {
   "cell_type": "code",
   "execution_count": 1,
   "id": "4471df4f",
   "metadata": {},
   "outputs": [],
   "source": [
    "festivos = {'01/01':'Año Nuevo', \n",
    "            '06/01': 'Epifanía del Señor', \n",
    "            '15/04': 'Viernes Santo', \n",
    "            '15/08': 'Asunción de la Virgen',\n",
    "            '12/10': 'Fiesta Nacional de España',\n",
    "            '01/11': 'Todos los Santos',\n",
    "            '06/12': 'Día de la Constitución Española',\n",
    "            '08/12': 'Inmaculada Concepción'}"
   ]
  },
  {
   "cell_type": "code",
   "execution_count": 3,
   "id": "682ef0c0",
   "metadata": {},
   "outputs": [
    {
     "data": {
      "text/plain": [
       "{'01/01': 'Año Nuevo',\n",
       " '06/01': 'Epifanía del Señor',\n",
       " '15/04': 'Viernes Santo',\n",
       " '15/08': 'Asunción de la Virgen',\n",
       " '12/10': 'Fiesta Nacional de España',\n",
       " '01/11': 'Todos los Santos',\n",
       " '06/12': 'Día de la Constitución Española',\n",
       " '08/12': 'Inmaculada Concepción'}"
      ]
     },
     "execution_count": 3,
     "metadata": {},
     "output_type": "execute_result"
    }
   ],
   "source": [
    "festivos"
   ]
  },
  {
   "cell_type": "code",
   "execution_count": 2,
   "id": "9b1db160",
   "metadata": {},
   "outputs": [],
   "source": [
    "monarcas = {'Bélgica': 'Philippe', 'Dinamarca': 'Margrethe II', 'Holanda': 'Beatrix', \n",
    "            'Noruega': 'Harald V', 'España': 'Felipe VI', 'Reino Unido': 'Carlos III'}"
   ]
  },
  {
   "cell_type": "code",
   "execution_count": 4,
   "id": "3c7fe598",
   "metadata": {},
   "outputs": [
    {
     "data": {
      "text/plain": [
       "{'Bélgica': 'Philippe',\n",
       " 'Dinamarca': 'Margrethe II',\n",
       " 'Holanda': 'Beatrix',\n",
       " 'Noruega': 'Harald V',\n",
       " 'España': 'Felipe VI',\n",
       " 'Reino Unido': 'Carlos III'}"
      ]
     },
     "execution_count": 4,
     "metadata": {},
     "output_type": "execute_result"
    }
   ],
   "source": [
    "monarcas"
   ]
  },
  {
   "cell_type": "markdown",
   "id": "aff4c631",
   "metadata": {},
   "source": [
    "- Leer, añadir, y cambiar elementos\n",
    "3. ¿Qué festivo hay el 15/04?\n",
    "4. La reina 'Beatrix' abdicó, ahora es el rey 'Willem-Alexander'. Actualiza el dict.\n",
    "5. El rey de Luxemburgo se llama Henri. Añadelo al dict usando .update()."
   ]
  },
  {
   "cell_type": "code",
   "execution_count": 5,
   "id": "4897ac42",
   "metadata": {},
   "outputs": [
    {
     "data": {
      "text/plain": [
       "'Viernes Santo'"
      ]
     },
     "execution_count": 5,
     "metadata": {},
     "output_type": "execute_result"
    }
   ],
   "source": [
    "festivos['15/04']"
   ]
  },
  {
   "cell_type": "code",
   "execution_count": 6,
   "id": "56f617d4",
   "metadata": {},
   "outputs": [
    {
     "data": {
      "text/plain": [
       "{'Bélgica': 'Philippe',\n",
       " 'Dinamarca': 'Margrethe II',\n",
       " 'Holanda': 'Willen-Alexander',\n",
       " 'Noruega': 'Harald V',\n",
       " 'España': 'Felipe VI',\n",
       " 'Reino Unido': 'Carlos III'}"
      ]
     },
     "execution_count": 6,
     "metadata": {},
     "output_type": "execute_result"
    }
   ],
   "source": [
    "monarcas['Holanda'] = 'Willen-Alexander'\n",
    "monarcas"
   ]
  },
  {
   "cell_type": "code",
   "execution_count": 9,
   "id": "e031f02c",
   "metadata": {},
   "outputs": [],
   "source": [
    "monarcas.update({'Luxemburgo':'Henri'})"
   ]
  },
  {
   "cell_type": "code",
   "execution_count": 10,
   "id": "5fc6dfdf",
   "metadata": {},
   "outputs": [
    {
     "data": {
      "text/plain": [
       "{'Bélgica': 'Philippe',\n",
       " 'Dinamarca': 'Margrethe II',\n",
       " 'Holanda': 'Willen-Alexander',\n",
       " 'Noruega': 'Harald V',\n",
       " 'España': 'Felipe VI',\n",
       " 'Reino Unido': 'Carlos III',\n",
       " 'Luxemburgo': 'Henri'}"
      ]
     },
     "execution_count": 10,
     "metadata": {},
     "output_type": "execute_result"
    }
   ],
   "source": [
    "monarcas"
   ]
  },
  {
   "cell_type": "markdown",
   "id": "3ae051e3",
   "metadata": {},
   "source": [
    "- Comprobar contenidos\n",
    "\n",
    "6. ¿Cuántos países están definidos en monarcas?\n",
    "7. ¿Es 'Monaco' uno de ellos?\n",
    "8. ¿Es verdad que nos olvidamos de poner 'Suecia'? Compruébalo de una manera en que obtengas un True o False."
   ]
  },
  {
   "cell_type": "code",
   "execution_count": 12,
   "id": "4a11f23a",
   "metadata": {},
   "outputs": [
    {
     "data": {
      "text/plain": [
       "7"
      ]
     },
     "execution_count": 12,
     "metadata": {},
     "output_type": "execute_result"
    }
   ],
   "source": [
    "len(monarcas.keys())"
   ]
  },
  {
   "cell_type": "code",
   "execution_count": null,
   "id": "2a0c64a3",
   "metadata": {},
   "outputs": [
    {
     "data": {
      "text/plain": [
       "7"
      ]
     },
     "execution_count": 13,
     "metadata": {},
     "output_type": "execute_result"
    }
   ],
   "source": [
    "len(monarcas) # segunda forma del punto 6"
   ]
  },
  {
   "cell_type": "code",
   "execution_count": 14,
   "id": "61fd5e22",
   "metadata": {},
   "outputs": [
    {
     "data": {
      "text/plain": [
       "False"
      ]
     },
     "execution_count": 14,
     "metadata": {},
     "output_type": "execute_result"
    }
   ],
   "source": [
    "'Monaco' in monarcas"
   ]
  },
  {
   "cell_type": "code",
   "execution_count": 17,
   "id": "efcb7def",
   "metadata": {},
   "outputs": [
    {
     "data": {
      "text/plain": [
       "True"
      ]
     },
     "execution_count": 17,
     "metadata": {},
     "output_type": "execute_result"
    }
   ],
   "source": [
    "'Suecia' not in monarcas"
   ]
  },
  {
   "cell_type": "markdown",
   "id": "8ff687a4",
   "metadata": {},
   "source": [
    "- Listar los contenidos\n",
    "9. Saca una lista de todos los países en el dict monarcas.\n",
    "10. Saca una lista de los nombres de los festivos.\n",
    "11. Imprime el diccionario de festivos.\n",
    "12. Imprime una lista de tuplas de todos los elementos que hay en festivos."
   ]
  },
  {
   "cell_type": "code",
   "execution_count": 18,
   "id": "b4dd49d1",
   "metadata": {},
   "outputs": [
    {
     "data": {
      "text/plain": [
       "['Bélgica',\n",
       " 'Dinamarca',\n",
       " 'Holanda',\n",
       " 'Noruega',\n",
       " 'España',\n",
       " 'Reino Unido',\n",
       " 'Luxemburgo']"
      ]
     },
     "execution_count": 18,
     "metadata": {},
     "output_type": "execute_result"
    }
   ],
   "source": [
    "lista_monarcas = list(monarcas.keys())\n",
    "lista_monarcas"
   ]
  },
  {
   "cell_type": "code",
   "execution_count": 19,
   "id": "88ff5f28",
   "metadata": {},
   "outputs": [
    {
     "data": {
      "text/plain": [
       "list"
      ]
     },
     "execution_count": 19,
     "metadata": {},
     "output_type": "execute_result"
    }
   ],
   "source": [
    "type(lista_monarcas)"
   ]
  },
  {
   "cell_type": "code",
   "execution_count": 20,
   "id": "c64e6290",
   "metadata": {},
   "outputs": [
    {
     "data": {
      "text/plain": [
       "['Año Nuevo',\n",
       " 'Epifanía del Señor',\n",
       " 'Viernes Santo',\n",
       " 'Asunción de la Virgen',\n",
       " 'Fiesta Nacional de España',\n",
       " 'Todos los Santos',\n",
       " 'Día de la Constitución Española',\n",
       " 'Inmaculada Concepción']"
      ]
     },
     "execution_count": 20,
     "metadata": {},
     "output_type": "execute_result"
    }
   ],
   "source": [
    "lista_festivos = list(festivos.values())\n",
    "lista_festivos"
   ]
  },
  {
   "cell_type": "code",
   "execution_count": 21,
   "id": "37810c63",
   "metadata": {},
   "outputs": [
    {
     "data": {
      "text/plain": [
       "list"
      ]
     },
     "execution_count": 21,
     "metadata": {},
     "output_type": "execute_result"
    }
   ],
   "source": [
    "type(lista_festivos)"
   ]
  },
  {
   "cell_type": "code",
   "execution_count": 22,
   "id": "ff6ff091",
   "metadata": {},
   "outputs": [
    {
     "name": "stdout",
     "output_type": "stream",
     "text": [
      "{'01/01': 'Año Nuevo', '06/01': 'Epifanía del Señor', '15/04': 'Viernes Santo', '15/08': 'Asunción de la Virgen', '12/10': 'Fiesta Nacional de España', '01/11': 'Todos los Santos', '06/12': 'Día de la Constitución Española', '08/12': 'Inmaculada Concepción'}\n"
     ]
    }
   ],
   "source": [
    "print(festivos)"
   ]
  },
  {
   "cell_type": "code",
   "execution_count": 31,
   "id": "3177689c",
   "metadata": {},
   "outputs": [
    {
     "data": {
      "text/plain": [
       "(('01/01', '06/01', '15/04', '15/08', '12/10', '01/11', '06/12', '08/12'),\n",
       " ('Año Nuevo',\n",
       "  'Epifanía del Señor',\n",
       "  'Viernes Santo',\n",
       "  'Asunción de la Virgen',\n",
       "  'Fiesta Nacional de España',\n",
       "  'Todos los Santos',\n",
       "  'Día de la Constitución Española',\n",
       "  'Inmaculada Concepción'))"
      ]
     },
     "execution_count": 31,
     "metadata": {},
     "output_type": "execute_result"
    }
   ],
   "source": [
    "lista_tuplas = (tuple(festivos.keys()), tuple(festivos.values()))\n",
    "lista_tuplas"
   ]
  },
  {
   "cell_type": "code",
   "execution_count": 32,
   "id": "dcea9e60",
   "metadata": {},
   "outputs": [
    {
     "data": {
      "text/plain": [
       "tuple"
      ]
     },
     "execution_count": 32,
     "metadata": {},
     "output_type": "execute_result"
    }
   ],
   "source": [
    "type(lista_tuplas)"
   ]
  },
  {
   "cell_type": "code",
   "execution_count": null,
   "id": "2ddafb3a",
   "metadata": {},
   "outputs": [
    {
     "data": {
      "text/plain": [
       "('01/01', '06/01', '15/04', '15/08', '12/10', '01/11', '06/12', '08/12')"
      ]
     },
     "execution_count": 30,
     "metadata": {},
     "output_type": "execute_result"
    }
   ],
   "source": [
    "tuple(festivos.keys()) # ejemplo de como sacar una tupla paso a paso"
   ]
  },
  {
   "cell_type": "markdown",
   "id": "c7bcd3da",
   "metadata": {},
   "source": [
    "- Copiar dicts, y borrar elementos\n",
    "13. Copia monarcas a monarcas2010.\n",
    "14. Quita España de monarcas2010.\n",
    "15. Quita el último elemento de monarcas2010."
   ]
  },
  {
   "cell_type": "code",
   "execution_count": 33,
   "id": "f26234ca",
   "metadata": {},
   "outputs": [],
   "source": [
    "monarcas2010 = monarcas.copy()"
   ]
  },
  {
   "cell_type": "code",
   "execution_count": 34,
   "id": "eb0a435a",
   "metadata": {},
   "outputs": [
    {
     "data": {
      "text/plain": [
       "{'Bélgica': 'Philippe',\n",
       " 'Dinamarca': 'Margrethe II',\n",
       " 'Holanda': 'Willen-Alexander',\n",
       " 'Noruega': 'Harald V',\n",
       " 'España': 'Felipe VI',\n",
       " 'Reino Unido': 'Carlos III',\n",
       " 'Luxemburgo': 'Henri'}"
      ]
     },
     "execution_count": 34,
     "metadata": {},
     "output_type": "execute_result"
    }
   ],
   "source": [
    "monarcas2010"
   ]
  },
  {
   "cell_type": "code",
   "execution_count": 35,
   "id": "4ddb9de8",
   "metadata": {},
   "outputs": [
    {
     "data": {
      "text/plain": [
       "'Felipe VI'"
      ]
     },
     "execution_count": 35,
     "metadata": {},
     "output_type": "execute_result"
    }
   ],
   "source": [
    "monarcas2010.pop('España')"
   ]
  },
  {
   "cell_type": "code",
   "execution_count": 36,
   "id": "608a159a",
   "metadata": {},
   "outputs": [
    {
     "data": {
      "text/plain": [
       "{'Bélgica': 'Philippe',\n",
       " 'Dinamarca': 'Margrethe II',\n",
       " 'Holanda': 'Willen-Alexander',\n",
       " 'Noruega': 'Harald V',\n",
       " 'Reino Unido': 'Carlos III',\n",
       " 'Luxemburgo': 'Henri'}"
      ]
     },
     "execution_count": 36,
     "metadata": {},
     "output_type": "execute_result"
    }
   ],
   "source": [
    "monarcas2010"
   ]
  },
  {
   "cell_type": "code",
   "execution_count": 37,
   "id": "44e1bf2d",
   "metadata": {},
   "outputs": [
    {
     "data": {
      "text/plain": [
       "('Luxemburgo', 'Henri')"
      ]
     },
     "execution_count": 37,
     "metadata": {},
     "output_type": "execute_result"
    }
   ],
   "source": [
    "monarcas2010.popitem()"
   ]
  },
  {
   "cell_type": "code",
   "execution_count": 38,
   "id": "7d9ef185",
   "metadata": {},
   "outputs": [
    {
     "data": {
      "text/plain": [
       "{'Bélgica': 'Philippe',\n",
       " 'Dinamarca': 'Margrethe II',\n",
       " 'Holanda': 'Willen-Alexander',\n",
       " 'Noruega': 'Harald V',\n",
       " 'Reino Unido': 'Carlos III'}"
      ]
     },
     "execution_count": 38,
     "metadata": {},
     "output_type": "execute_result"
    }
   ],
   "source": [
    "monarcas2010"
   ]
  },
  {
   "cell_type": "markdown",
   "id": "ae83d725",
   "metadata": {},
   "source": [
    "- Vaciar y borrar dicts\n",
    "16. Vacia el dict monarcas2010.\n",
    "\n",
    "- Obtener valores\n",
    "17. ¿Qué festivo hay el 06/01?\n",
    "18. Obten el festivo que haya el 08/03, y en su defecto devuélve 'Día Internacional de la Mujer'.\n",
    "19. Obten el festivo que haya el 31/11, y si no existe crea un par de clave-valor nuevo con el valor de 'Todos los Santos'."
   ]
  },
  {
   "cell_type": "code",
   "execution_count": 39,
   "id": "4ab435ec",
   "metadata": {},
   "outputs": [],
   "source": [
    "monarcas2010.clear()"
   ]
  },
  {
   "cell_type": "code",
   "execution_count": 40,
   "id": "d1bef809",
   "metadata": {},
   "outputs": [
    {
     "data": {
      "text/plain": [
       "{}"
      ]
     },
     "execution_count": 40,
     "metadata": {},
     "output_type": "execute_result"
    }
   ],
   "source": [
    "monarcas2010"
   ]
  },
  {
   "cell_type": "code",
   "execution_count": 41,
   "id": "12bb90b1",
   "metadata": {},
   "outputs": [
    {
     "data": {
      "text/plain": [
       "'Epifanía del Señor'"
      ]
     },
     "execution_count": 41,
     "metadata": {},
     "output_type": "execute_result"
    }
   ],
   "source": [
    "festivos['06/01']"
   ]
  },
  {
   "cell_type": "code",
   "execution_count": 42,
   "id": "29730c5d",
   "metadata": {},
   "outputs": [
    {
     "data": {
      "text/plain": [
       "'Día Internacional de la Mujer'"
      ]
     },
     "execution_count": 42,
     "metadata": {},
     "output_type": "execute_result"
    }
   ],
   "source": [
    "festivos.setdefault('08/03', 'Día Internacional de la Mujer')"
   ]
  },
  {
   "cell_type": "code",
   "execution_count": 43,
   "id": "20560a41",
   "metadata": {},
   "outputs": [
    {
     "data": {
      "text/plain": [
       "{'01/01': 'Año Nuevo',\n",
       " '06/01': 'Epifanía del Señor',\n",
       " '15/04': 'Viernes Santo',\n",
       " '15/08': 'Asunción de la Virgen',\n",
       " '12/10': 'Fiesta Nacional de España',\n",
       " '01/11': 'Todos los Santos',\n",
       " '06/12': 'Día de la Constitución Española',\n",
       " '08/12': 'Inmaculada Concepción',\n",
       " '08/03': 'Día Internacional de la Mujer'}"
      ]
     },
     "execution_count": 43,
     "metadata": {},
     "output_type": "execute_result"
    }
   ],
   "source": [
    "festivos"
   ]
  },
  {
   "cell_type": "code",
   "execution_count": null,
   "id": "c38b788b",
   "metadata": {},
   "outputs": [
    {
     "data": {
      "text/plain": [
       "('08/03', 'Día Internacional de la Mujer')"
      ]
     },
     "execution_count": 44,
     "metadata": {},
     "output_type": "execute_result"
    }
   ],
   "source": [
    "# El ejercicio no nos pedía que añadieramos la clave-valor, por eso lo eliminamos y hacemos lo que nos pide el ejercicio de manera correcta. \n",
    "festivos.popitem()"
   ]
  },
  {
   "cell_type": "code",
   "execution_count": 45,
   "id": "b8239160",
   "metadata": {},
   "outputs": [
    {
     "data": {
      "text/plain": [
       "{'01/01': 'Año Nuevo',\n",
       " '06/01': 'Epifanía del Señor',\n",
       " '15/04': 'Viernes Santo',\n",
       " '15/08': 'Asunción de la Virgen',\n",
       " '12/10': 'Fiesta Nacional de España',\n",
       " '01/11': 'Todos los Santos',\n",
       " '06/12': 'Día de la Constitución Española',\n",
       " '08/12': 'Inmaculada Concepción'}"
      ]
     },
     "execution_count": 45,
     "metadata": {},
     "output_type": "execute_result"
    }
   ],
   "source": [
    "festivos"
   ]
  },
  {
   "cell_type": "code",
   "execution_count": 46,
   "id": "fc66c1a1",
   "metadata": {},
   "outputs": [
    {
     "data": {
      "text/plain": [
       "'Día Internacional de la Mujer'"
      ]
     },
     "execution_count": 46,
     "metadata": {},
     "output_type": "execute_result"
    }
   ],
   "source": [
    "festivos.get('08/03', 'Día Internacional de la Mujer')"
   ]
  },
  {
   "cell_type": "code",
   "execution_count": 47,
   "id": "25da5b68",
   "metadata": {},
   "outputs": [
    {
     "data": {
      "text/plain": [
       "{'01/01': 'Año Nuevo',\n",
       " '06/01': 'Epifanía del Señor',\n",
       " '15/04': 'Viernes Santo',\n",
       " '15/08': 'Asunción de la Virgen',\n",
       " '12/10': 'Fiesta Nacional de España',\n",
       " '01/11': 'Todos los Santos',\n",
       " '06/12': 'Día de la Constitución Española',\n",
       " '08/12': 'Inmaculada Concepción'}"
      ]
     },
     "execution_count": 47,
     "metadata": {},
     "output_type": "execute_result"
    }
   ],
   "source": [
    "festivos"
   ]
  },
  {
   "cell_type": "code",
   "execution_count": 48,
   "id": "879d4744",
   "metadata": {},
   "outputs": [
    {
     "data": {
      "text/plain": [
       "'Todos los santos'"
      ]
     },
     "execution_count": 48,
     "metadata": {},
     "output_type": "execute_result"
    }
   ],
   "source": [
    "festivos.setdefault('31/11', 'Todos los santos')"
   ]
  },
  {
   "cell_type": "code",
   "execution_count": 49,
   "id": "696ec620",
   "metadata": {},
   "outputs": [
    {
     "data": {
      "text/plain": [
       "{'01/01': 'Año Nuevo',\n",
       " '06/01': 'Epifanía del Señor',\n",
       " '15/04': 'Viernes Santo',\n",
       " '15/08': 'Asunción de la Virgen',\n",
       " '12/10': 'Fiesta Nacional de España',\n",
       " '01/11': 'Todos los Santos',\n",
       " '06/12': 'Día de la Constitución Española',\n",
       " '08/12': 'Inmaculada Concepción',\n",
       " '31/11': 'Todos los santos'}"
      ]
     },
     "execution_count": 49,
     "metadata": {},
     "output_type": "execute_result"
    }
   ],
   "source": [
    "festivos"
   ]
  },
  {
   "cell_type": "code",
   "execution_count": null,
   "id": "9f47dbea",
   "metadata": {},
   "outputs": [],
   "source": []
  }
 ],
 "metadata": {
  "kernelspec": {
   "display_name": "base",
   "language": "python",
   "name": "python3"
  },
  "language_info": {
   "codemirror_mode": {
    "name": "ipython",
    "version": 3
   },
   "file_extension": ".py",
   "mimetype": "text/x-python",
   "name": "python",
   "nbconvert_exporter": "python",
   "pygments_lexer": "ipython3",
   "version": "3.12.7"
  }
 },
 "nbformat": 4,
 "nbformat_minor": 5
}

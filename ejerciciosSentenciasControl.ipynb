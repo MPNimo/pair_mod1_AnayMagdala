{
 "cells": [
  {
   "cell_type": "markdown",
   "id": "33ce9738",
   "metadata": {},
   "source": [
    "1. Crea las siguientes variables:\n",
    "- `var1` sea un número con el valor `8`.\n",
    "- `var2` sea un número con el valor `2`.\n",
    "- `var3` sea un número con el valor `8`."
   ]
  },
  {
   "cell_type": "code",
   "execution_count": null,
   "id": "4e36e569",
   "metadata": {},
   "outputs": [],
   "source": []
  },
  {
   "cell_type": "markdown",
   "id": "84acf3e8",
   "metadata": {},
   "source": []
  }
 ],
 "metadata": {
  "language_info": {
   "name": "python"
  }
 },
 "nbformat": 4,
 "nbformat_minor": 5
}

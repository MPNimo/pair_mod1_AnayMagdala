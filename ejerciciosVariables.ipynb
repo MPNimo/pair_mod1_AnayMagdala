{
 "cells": [
  {
   "cell_type": "markdown",
   "id": "8914c6b5",
   "metadata": {},
   "source": [
    "1. Crea la variable `gatos` que sea un número con el valor `8`."
   ]
  },
  {
   "cell_type": "code",
   "execution_count": 1,
   "id": "fdef6f44",
   "metadata": {},
   "outputs": [
    {
     "data": {
      "text/plain": [
       "8"
      ]
     },
     "execution_count": 1,
     "metadata": {},
     "output_type": "execute_result"
    }
   ],
   "source": [
    "gatos = 8\n",
    "gatos"
   ]
  },
  {
   "cell_type": "code",
   "execution_count": 4,
   "id": "8c67eecf",
   "metadata": {},
   "outputs": [
    {
     "data": {
      "text/plain": [
       "int"
      ]
     },
     "execution_count": 4,
     "metadata": {},
     "output_type": "execute_result"
    }
   ],
   "source": [
    "type(gatos)"
   ]
  },
  {
   "cell_type": "markdown",
   "id": "93aab36a",
   "metadata": {},
   "source": [
    "2. Crea la variable `perros` que sea un texto de seis caracteres: la palabra `cuatro`."
   ]
  },
  {
   "cell_type": "code",
   "execution_count": 2,
   "id": "2395a3a1",
   "metadata": {},
   "outputs": [
    {
     "data": {
      "text/plain": [
       "'cuatro'"
      ]
     },
     "execution_count": 2,
     "metadata": {},
     "output_type": "execute_result"
    }
   ],
   "source": [
    "perros = 'cuatro'\n",
    "perros"
   ]
  },
  {
   "cell_type": "code",
   "execution_count": 3,
   "id": "350387cc",
   "metadata": {},
   "outputs": [
    {
     "data": {
      "text/plain": [
       "str"
      ]
     },
     "execution_count": 3,
     "metadata": {},
     "output_type": "execute_result"
    }
   ],
   "source": [
    "type(perros)"
   ]
  },
  {
   "cell_type": "markdown",
   "id": "cb1afd45",
   "metadata": {},
   "source": [
    "3. Imprime la variable `gatos`."
   ]
  },
  {
   "cell_type": "code",
   "execution_count": 5,
   "id": "a82ab873",
   "metadata": {},
   "outputs": [
    {
     "name": "stdout",
     "output_type": "stream",
     "text": [
      "8\n"
     ]
    }
   ],
   "source": [
    "print(gatos)"
   ]
  },
  {
   "cell_type": "markdown",
   "id": "5a0e0fd4",
   "metadata": {},
   "source": [
    "4. Imprime la variable `perros`."
   ]
  },
  {
   "cell_type": "code",
   "execution_count": 6,
   "id": "4ef0af96",
   "metadata": {},
   "outputs": [
    {
     "name": "stdout",
     "output_type": "stream",
     "text": [
      "cuatro\n"
     ]
    }
   ],
   "source": [
    "print(perros)"
   ]
  },
  {
   "cell_type": "markdown",
   "id": "d42a4729",
   "metadata": {},
   "source": [
    "5. Imprime la variable `perros` seguida por la palabra `más` y la palabra `perros` otra vez."
   ]
  },
  {
   "cell_type": "code",
   "execution_count": 7,
   "id": "d801c6c4",
   "metadata": {},
   "outputs": [
    {
     "name": "stdout",
     "output_type": "stream",
     "text": [
      "cuatromáscuatro\n"
     ]
    }
   ],
   "source": [
    "print(perros + 'más' + perros)"
   ]
  },
  {
   "cell_type": "code",
   "execution_count": 10,
   "id": "63824c96",
   "metadata": {},
   "outputs": [
    {
     "name": "stdout",
     "output_type": "stream",
     "text": [
      "cuatro más perros\n"
     ]
    }
   ],
   "source": [
    "print(perros, 'más perros')"
   ]
  },
  {
   "cell_type": "markdown",
   "id": "14201c5c",
   "metadata": {},
   "source": [
    "6. Consigue que el ordenador devuelva el siguiente texto, usando la variable `perros`: `cuatro más cuatro es igual a 8`."
   ]
  },
  {
   "cell_type": "code",
   "execution_count": 13,
   "id": "770e9c98",
   "metadata": {},
   "outputs": [
    {
     "name": "stdout",
     "output_type": "stream",
     "text": [
      "cuatro más cuatro es igual a 8\n",
      "cuatro más cuatro es igual a 8\n"
     ]
    }
   ],
   "source": [
    "print(perros, 'más', perros, 'es igual a', gatos)\n",
    "print(perros, 'más', perros, 'es igual a 8')"
   ]
  },
  {
   "cell_type": "markdown",
   "id": "af853f4c",
   "metadata": {},
   "source": [
    "7. Consigue que el ordenador devuelva el siguiente texto, usando la variable `perros`: `cuatro + cuatro = 8`."
   ]
  },
  {
   "cell_type": "code",
   "execution_count": 14,
   "id": "a53752f8",
   "metadata": {},
   "outputs": [
    {
     "name": "stdout",
     "output_type": "stream",
     "text": [
      "cuatro + cuatro = 8\n",
      "cuatro + cuatro = 8\n"
     ]
    }
   ],
   "source": [
    "print(perros, '+', perros, '=', gatos)\n",
    "print(perros, '+', perros, '= 8')"
   ]
  },
  {
   "cell_type": "markdown",
   "id": "2170792c",
   "metadata": {},
   "source": [
    "8. Defina una variable `pizzas` con un valor `2` que se de tipo float. "
   ]
  },
  {
   "cell_type": "code",
   "execution_count": 15,
   "id": "87e1cd31",
   "metadata": {},
   "outputs": [],
   "source": [
    "pizzas = 2.0"
   ]
  },
  {
   "cell_type": "markdown",
   "id": "8841822c",
   "metadata": {},
   "source": [
    "11. ¿Qué tipo de dato es la variable `pizzas`?"
   ]
  },
  {
   "cell_type": "code",
   "execution_count": 16,
   "id": "73bcfaca",
   "metadata": {},
   "outputs": [
    {
     "data": {
      "text/plain": [
       "float"
      ]
     },
     "execution_count": 16,
     "metadata": {},
     "output_type": "execute_result"
    }
   ],
   "source": [
    "type(pizzas)"
   ]
  },
  {
   "cell_type": "markdown",
   "id": "167813d7",
   "metadata": {},
   "source": [
    "9. Define `magdalenas` con un valor `2` que se del tipo string. "
   ]
  },
  {
   "cell_type": "code",
   "execution_count": 17,
   "id": "f0967c32",
   "metadata": {},
   "outputs": [],
   "source": [
    "magdalenas = '2'"
   ]
  },
  {
   "cell_type": "code",
   "execution_count": 18,
   "id": "29d3210f",
   "metadata": {},
   "outputs": [
    {
     "data": {
      "text/plain": [
       "str"
      ]
     },
     "execution_count": 18,
     "metadata": {},
     "output_type": "execute_result"
    }
   ],
   "source": [
    "type(magdalenas)"
   ]
  },
  {
   "cell_type": "markdown",
   "id": "1c462b60",
   "metadata": {},
   "source": [
    "10. Define `postres` con un valor `0` que se del tipo int. (13, se repite)"
   ]
  },
  {
   "cell_type": "code",
   "execution_count": 19,
   "id": "31acd5f5",
   "metadata": {},
   "outputs": [],
   "source": [
    "postres = 0 "
   ]
  },
  {
   "cell_type": "code",
   "execution_count": 20,
   "id": "b63a2a0c",
   "metadata": {},
   "outputs": [
    {
     "data": {
      "text/plain": [
       "int"
      ]
     },
     "execution_count": 20,
     "metadata": {},
     "output_type": "execute_result"
    }
   ],
   "source": [
    "type(postres)"
   ]
  },
  {
   "cell_type": "markdown",
   "id": "50c75e7f",
   "metadata": {},
   "source": [
    "12. ¿Es la variable `magdalenas` de tipo string?"
   ]
  },
  {
   "cell_type": "code",
   "execution_count": 22,
   "id": "c3178e6a",
   "metadata": {},
   "outputs": [
    {
     "data": {
      "text/plain": [
       "True"
      ]
     },
     "execution_count": 22,
     "metadata": {},
     "output_type": "execute_result"
    }
   ],
   "source": [
    "type(magdalenas) == str"
   ]
  },
  {
   "cell_type": "markdown",
   "id": "91db9ede",
   "metadata": {},
   "source": [
    "14. Calcula la suma de `gatos` y `pizzas`. "
   ]
  },
  {
   "cell_type": "code",
   "execution_count": 23,
   "id": "f6480c25",
   "metadata": {},
   "outputs": [
    {
     "data": {
      "text/plain": [
       "10.0"
      ]
     },
     "execution_count": 23,
     "metadata": {},
     "output_type": "execute_result"
    }
   ],
   "source": [
    "gatos + pizzas"
   ]
  },
  {
   "cell_type": "markdown",
   "id": "b9d6b7f5",
   "metadata": {},
   "source": [
    "15. Calcula la diferencia entre `gatos` y `pizzas`."
   ]
  },
  {
   "cell_type": "code",
   "execution_count": 24,
   "id": "080198ca",
   "metadata": {},
   "outputs": [
    {
     "data": {
      "text/plain": [
       "6.0"
      ]
     },
     "execution_count": 24,
     "metadata": {},
     "output_type": "execute_result"
    }
   ],
   "source": [
    "gatos - pizzas"
   ]
  },
  {
   "cell_type": "markdown",
   "id": "4116d5e8",
   "metadata": {},
   "source": [
    "16. Multiplica la cantidad de gatos por 2. "
   ]
  },
  {
   "cell_type": "code",
   "execution_count": 25,
   "id": "1b914295",
   "metadata": {},
   "outputs": [
    {
     "data": {
      "text/plain": [
       "16"
      ]
     },
     "execution_count": 25,
     "metadata": {},
     "output_type": "execute_result"
    }
   ],
   "source": [
    "gatos * 2"
   ]
  },
  {
   "cell_type": "markdown",
   "id": "46b7c1a5",
   "metadata": {},
   "source": [
    "17. Crea una variable `piezas` que sea 8 veces la cantidad de `pizzas`. "
   ]
  },
  {
   "cell_type": "code",
   "execution_count": 29,
   "id": "525a7e35",
   "metadata": {},
   "outputs": [
    {
     "data": {
      "text/plain": [
       "16.0"
      ]
     },
     "execution_count": 29,
     "metadata": {},
     "output_type": "execute_result"
    }
   ],
   "source": [
    "piezas = 8 * pizzas\n",
    "piezas"
   ]
  },
  {
   "cell_type": "markdown",
   "id": "a778d5ba",
   "metadata": {},
   "source": [
    "18. Haz que la cantidad de `piezas` se aumente en 3. "
   ]
  },
  {
   "cell_type": "code",
   "execution_count": 30,
   "id": "51a1d9de",
   "metadata": {},
   "outputs": [
    {
     "data": {
      "text/plain": [
       "19.0"
      ]
     },
     "execution_count": 30,
     "metadata": {},
     "output_type": "execute_result"
    }
   ],
   "source": [
    "piezas = piezas + 3\n",
    "piezas"
   ]
  },
  {
   "cell_type": "markdown",
   "id": "4e02d0e4",
   "metadata": {},
   "source": [
    "19. Calcula el cuadrado de 9 y guárdalo en una variable llamada `superficie`."
   ]
  },
  {
   "cell_type": "code",
   "execution_count": 31,
   "id": "aa42857a",
   "metadata": {},
   "outputs": [
    {
     "data": {
      "text/plain": [
       "81"
      ]
     },
     "execution_count": 31,
     "metadata": {},
     "output_type": "execute_result"
    }
   ],
   "source": [
    "superficie = 9 ** 2\n",
    "superficie"
   ]
  },
  {
   "cell_type": "markdown",
   "id": "70c46ad8",
   "metadata": {},
   "source": [
    "20. ¿Cuántga superficie hay por gato?"
   ]
  },
  {
   "cell_type": "code",
   "execution_count": 32,
   "id": "e3050fdd",
   "metadata": {},
   "outputs": [
    {
     "data": {
      "text/plain": [
       "10.125"
      ]
     },
     "execution_count": 32,
     "metadata": {},
     "output_type": "execute_result"
    }
   ],
   "source": [
    "superficie / gatos"
   ]
  },
  {
   "cell_type": "markdown",
   "id": "28fa83a6",
   "metadata": {},
   "source": [
    "21. ¿Cuantas piezas enteras hay por gato?"
   ]
  },
  {
   "cell_type": "code",
   "execution_count": 34,
   "id": "b6c4c38f",
   "metadata": {},
   "outputs": [
    {
     "data": {
      "text/plain": [
       "2.0"
      ]
     },
     "execution_count": 34,
     "metadata": {},
     "output_type": "execute_result"
    }
   ],
   "source": [
    "piezas // gatos"
   ]
  },
  {
   "cell_type": "markdown",
   "id": "d3e93269",
   "metadata": {},
   "source": [
    "22. ¿Cuántas piezas te quedan si cada gato se come 21 piezas?"
   ]
  },
  {
   "cell_type": "code",
   "execution_count": 35,
   "id": "5a58d1ef",
   "metadata": {},
   "outputs": [
    {
     "data": {
      "text/plain": [
       "168"
      ]
     },
     "execution_count": 35,
     "metadata": {},
     "output_type": "execute_result"
    }
   ],
   "source": [
    "21 * gatos"
   ]
  },
  {
   "cell_type": "code",
   "execution_count": 36,
   "id": "306cf784",
   "metadata": {},
   "outputs": [
    {
     "data": {
      "text/plain": [
       "19.0"
      ]
     },
     "execution_count": 36,
     "metadata": {},
     "output_type": "execute_result"
    }
   ],
   "source": [
    "piezas"
   ]
  },
  {
   "cell_type": "code",
   "execution_count": 37,
   "id": "1c8426dc",
   "metadata": {},
   "outputs": [
    {
     "data": {
      "text/plain": [
       "19.0"
      ]
     },
     "execution_count": 37,
     "metadata": {},
     "output_type": "execute_result"
    }
   ],
   "source": [
    "piezas % (21*gatos)"
   ]
  },
  {
   "cell_type": "markdown",
   "id": "1dc6e780",
   "metadata": {},
   "source": [
    "23. ¿Cuánta superficie hay por gato en metros cuadrados? Redondeala a un sólo decimal. Intenta calcularlo dentro del mismo `print()` en una sola línea."
   ]
  },
  {
   "cell_type": "code",
   "execution_count": 39,
   "id": "e6e027db",
   "metadata": {},
   "outputs": [
    {
     "data": {
      "text/plain": [
       "10.1"
      ]
     },
     "execution_count": 39,
     "metadata": {},
     "output_type": "execute_result"
    }
   ],
   "source": [
    "round(superficie / gatos, 1)"
   ]
  },
  {
   "cell_type": "markdown",
   "id": "31051131",
   "metadata": {},
   "source": [
    "24. ¿Es verdad que hay más gatos que pizzas?"
   ]
  },
  {
   "cell_type": "code",
   "execution_count": 40,
   "id": "ed64a0cc",
   "metadata": {},
   "outputs": [
    {
     "data": {
      "text/plain": [
       "True"
      ]
     },
     "execution_count": 40,
     "metadata": {},
     "output_type": "execute_result"
    }
   ],
   "source": [
    "gatos > pizzas"
   ]
  },
  {
   "cell_type": "markdown",
   "id": "13ead3f7",
   "metadata": {},
   "source": [
    "25. ¿Es verdad que hay menos gatos que superficie?"
   ]
  },
  {
   "cell_type": "code",
   "execution_count": 41,
   "id": "ead8a429",
   "metadata": {},
   "outputs": [
    {
     "data": {
      "text/plain": [
       "True"
      ]
     },
     "execution_count": 41,
     "metadata": {},
     "output_type": "execute_result"
    }
   ],
   "source": [
    "gatos < superficie"
   ]
  },
  {
   "cell_type": "markdown",
   "id": "a23d32c6",
   "metadata": {},
   "source": [
    "26. ¿Es verdad que 2 veces la cantidad de pizzas es distinto de la cantidad de gatos?"
   ]
  },
  {
   "cell_type": "code",
   "execution_count": 42,
   "id": "6010acb3",
   "metadata": {},
   "outputs": [
    {
     "data": {
      "text/plain": [
       "True"
      ]
     },
     "execution_count": 42,
     "metadata": {},
     "output_type": "execute_result"
    }
   ],
   "source": [
    "2 * pizzas != gatos"
   ]
  },
  {
   "cell_type": "markdown",
   "id": "3a590a4c",
   "metadata": {},
   "source": [
    "27. ¿Es falso que 2 veces la cantidad de pizzas es igual a la cantidad de gatos?"
   ]
  },
  {
   "cell_type": "code",
   "execution_count": 44,
   "id": "ab7df574",
   "metadata": {},
   "outputs": [
    {
     "data": {
      "text/plain": [
       "False"
      ]
     },
     "execution_count": 44,
     "metadata": {},
     "output_type": "execute_result"
    }
   ],
   "source": [
    "2 * pizzas == gatos"
   ]
  }
 ],
 "metadata": {
  "kernelspec": {
   "display_name": "base",
   "language": "python",
   "name": "python3"
  },
  "language_info": {
   "codemirror_mode": {
    "name": "ipython",
    "version": 3
   },
   "file_extension": ".py",
   "mimetype": "text/x-python",
   "name": "python",
   "nbconvert_exporter": "python",
   "pygments_lexer": "ipython3",
   "version": "3.12.7"
  }
 },
 "nbformat": 4,
 "nbformat_minor": 5
}
